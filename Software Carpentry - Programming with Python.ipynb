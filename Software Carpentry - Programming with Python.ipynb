{
 "cells": [
  {
   "cell_type": "markdown",
   "id": "6a3e32af",
   "metadata": {},
   "source": [
    "# SOFTWARE CARPENTRY - PROGRAMMING WITH PYTHON"
   ]
  },
  {
   "cell_type": "markdown",
   "id": "68e5434d",
   "metadata": {},
   "source": [
    "# PYTHON FUNDAMENTALS"
   ]
  },
  {
   "cell_type": "markdown",
   "id": "1dba03d8",
   "metadata": {},
   "source": [
    "# VARIABLES"
   ]
  },
  {
   "cell_type": "code",
   "execution_count": 1,
   "id": "f9006af9",
   "metadata": {},
   "outputs": [
    {
     "data": {
      "text/plain": [
       "23"
      ]
     },
     "execution_count": 1,
     "metadata": {},
     "output_type": "execute_result"
    }
   ],
   "source": [
    "3 + 5 * 4"
   ]
  },
  {
   "cell_type": "code",
   "execution_count": 6,
   "id": "014c1636",
   "metadata": {},
   "outputs": [],
   "source": [
    "# we can assign a value to a variable, using the equals sign =. For example, we can track the weight of a patient who weighs 60 kilograms by assigning the value 60 to a variable weight_kg:\n",
    "weight_kg = 60"
   ]
  },
  {
   "cell_type": "markdown",
   "id": "05153432",
   "metadata": {},
   "source": [
    "# TYPES OF DATA"
   ]
  },
  {
   "cell_type": "code",
   "execution_count": 7,
   "id": "e1d982d1",
   "metadata": {},
   "outputs": [],
   "source": [
    "# If we want to more precisely track the weight of our patient, we can use a floating point value by executing\n",
    "weight_kg = 60.3"
   ]
  },
  {
   "cell_type": "code",
   "execution_count": 8,
   "id": "8f9ff8b3",
   "metadata": {},
   "outputs": [],
   "source": [
    "# To create a string, we add single or double quotes around some text. To identify and track a patient throughout our study, we can assign each person a unique identifier by storing it in a string:\n",
    "patient_id = '001'"
   ]
  },
  {
   "cell_type": "markdown",
   "id": "5a3d4498",
   "metadata": {},
   "source": [
    "# USING VARIABLES IN PYTHON"
   ]
  },
  {
   "cell_type": "code",
   "execution_count": 9,
   "id": "ad1dba0b",
   "metadata": {},
   "outputs": [],
   "source": [
    "# Once we have data stored with variable names, we can make use of it in calculations. We may want to store our patient’s weight in pounds as well as kilograms\n",
    "weight_lb = 2.2 * weight_kg\n",
    "patient_id = 'inflam_' + patient_id"
   ]
  },
  {
   "cell_type": "markdown",
   "id": "f4051d47",
   "metadata": {},
   "source": [
    "# BUILT-IN PYTHON FUNCTIONS"
   ]
  },
  {
   "cell_type": "code",
   "execution_count": 10,
   "id": "f0f28167",
   "metadata": {},
   "outputs": [
    {
     "name": "stdout",
     "output_type": "stream",
     "text": [
      "132.66\n",
      "inflam_001\n"
     ]
    }
   ],
   "source": [
    "print(weight_lb)\n",
    "print(patient_id)"
   ]
  },
  {
   "cell_type": "code",
   "execution_count": 11,
   "id": "4a1d63d0",
   "metadata": {},
   "outputs": [
    {
     "name": "stdout",
     "output_type": "stream",
     "text": [
      "inflam_001 weight in kilograms: 60.3\n"
     ]
    }
   ],
   "source": [
    "print(patient_id, 'weight in kilograms:', weight_kg)"
   ]
  },
  {
   "cell_type": "code",
   "execution_count": 12,
   "id": "b2cda47f",
   "metadata": {},
   "outputs": [
    {
     "name": "stdout",
     "output_type": "stream",
     "text": [
      "<class 'float'>\n",
      "<class 'str'>\n"
     ]
    }
   ],
   "source": [
    "print(type(60.3))\n",
    "print(type(patient_id))"
   ]
  },
  {
   "cell_type": "code",
   "execution_count": 13,
   "id": "138c9922",
   "metadata": {},
   "outputs": [
    {
     "name": "stdout",
     "output_type": "stream",
     "text": [
      "weight in pounds: 132.66\n"
     ]
    }
   ],
   "source": [
    "print('weight in pounds:', 2.2 * weight_kg)"
   ]
  },
  {
   "cell_type": "code",
   "execution_count": 14,
   "id": "ce3ec6a8",
   "metadata": {},
   "outputs": [
    {
     "name": "stdout",
     "output_type": "stream",
     "text": [
      "60.3\n"
     ]
    }
   ],
   "source": [
    "print(weight_kg)"
   ]
  },
  {
   "cell_type": "code",
   "execution_count": 15,
   "id": "3b5804ec",
   "metadata": {},
   "outputs": [
    {
     "name": "stdout",
     "output_type": "stream",
     "text": [
      "weight in kilograms is now: 65.0\n"
     ]
    }
   ],
   "source": [
    "weight_kg = 65.0\n",
    "print('weight in kilograms is now:', weight_kg)"
   ]
  },
  {
   "cell_type": "markdown",
   "id": "b312a046",
   "metadata": {},
   "source": [
    "# VARIABLES AS STICKY NOTES"
   ]
  },
  {
   "cell_type": "code",
   "execution_count": 16,
   "id": "10fbb67f",
   "metadata": {},
   "outputs": [
    {
     "name": "stdout",
     "output_type": "stream",
     "text": [
      "weight in kilograms: 65.0 and in pounds: 143.0\n"
     ]
    }
   ],
   "source": [
    "# There are 2.2 pounds per kilogram\n",
    "weight_lb = 2.2 * weight_kg\n",
    "print('weight in kilograms:', weight_kg, 'and in pounds:', weight_lb)"
   ]
  },
  {
   "cell_type": "code",
   "execution_count": 17,
   "id": "37b9bdd2",
   "metadata": {},
   "outputs": [
    {
     "name": "stdout",
     "output_type": "stream",
     "text": [
      "weight in kilograms is now: 100.0 and weight in pounds is still: 143.0\n"
     ]
    }
   ],
   "source": [
    "weight_kg = 100.0\n",
    "print('weight in kilograms is now:', weight_kg, 'and weight in pounds is still:', weight_lb)"
   ]
  },
  {
   "cell_type": "markdown",
   "id": "595aae40",
   "metadata": {},
   "source": [
    "# CHECK YOUR UNDERSTANDING"
   ]
  },
  {
   "cell_type": "code",
   "execution_count": 25,
   "id": "09c78dd2",
   "metadata": {},
   "outputs": [
    {
     "name": "stdout",
     "output_type": "stream",
     "text": [
      "95.0\n",
      "102\n"
     ]
    }
   ],
   "source": [
    "mass = 47.5\n",
    "age = 122\n",
    "mass = mass * 2.0\n",
    "age = age - 20\n",
    "print(mass)\n",
    "print (age)\n",
    "\n",
    "# `mass` holds a value of 47.5, `age` does not exist\n",
    "# `mass` still holds a value of 47.5, `age` holds a value of 122\n",
    "# `mass` now has a value of 95.0, `age`'s value is still 122\n",
    "# `mass` still has a value of 95.0, `age` now holds 102"
   ]
  },
  {
   "cell_type": "markdown",
   "id": "980308ed",
   "metadata": {},
   "source": [
    "# SORTING OUT REFERENCES"
   ]
  },
  {
   "cell_type": "code",
   "execution_count": 22,
   "id": "e1974001",
   "metadata": {},
   "outputs": [
    {
     "name": "stdout",
     "output_type": "stream",
     "text": [
      "Hopper Grace\n"
     ]
    }
   ],
   "source": [
    "first, second = 'Grace', 'Hopper'\n",
    "third, fourth = second, first\n",
    "print(third, fourth)"
   ]
  },
  {
   "cell_type": "markdown",
   "id": "93eba5a4",
   "metadata": {},
   "source": [
    "# SEEING DATA TYPES"
   ]
  },
  {
   "cell_type": "code",
   "execution_count": 24,
   "id": "e867a03a",
   "metadata": {},
   "outputs": [
    {
     "name": "stdout",
     "output_type": "stream",
     "text": [
      "<class 'str'>\n",
      "<class 'int'>\n",
      "<class 'float'>\n"
     ]
    }
   ],
   "source": [
    "planet = 'Earth'\n",
    "apples = 5\n",
    "distance = 10.5\n",
    "\n",
    "print(type(planet))\n",
    "print(type(apples))\n",
    "print(type(distance))"
   ]
  },
  {
   "cell_type": "markdown",
   "id": "5bbd85c1",
   "metadata": {},
   "source": [
    "# ANALYZING PATIENT DATA"
   ]
  },
  {
   "cell_type": "markdown",
   "id": "a2eb3391",
   "metadata": {},
   "source": [
    "# LOADING DATA INTO PYTHON"
   ]
  },
  {
   "cell_type": "code",
   "execution_count": 34,
   "id": "c44996b8",
   "metadata": {},
   "outputs": [],
   "source": [
    "import numpy"
   ]
  },
  {
   "cell_type": "code",
   "execution_count": 35,
   "id": "ee92c686",
   "metadata": {},
   "outputs": [
    {
     "data": {
      "text/plain": [
       "array([[0., 0., 1., ..., 3., 0., 0.],\n",
       "       [0., 1., 2., ..., 1., 0., 1.],\n",
       "       [0., 1., 1., ..., 2., 1., 1.],\n",
       "       ...,\n",
       "       [0., 1., 1., ..., 1., 1., 1.],\n",
       "       [0., 0., 0., ..., 0., 2., 0.],\n",
       "       [0., 0., 1., ..., 1., 1., 0.]])"
      ]
     },
     "execution_count": 35,
     "metadata": {},
     "output_type": "execute_result"
    }
   ],
   "source": [
    "numpy.loadtxt(fname='/Users/ananyasmaranikadivendi/Downloads/data/inflammation-01.csv', delimiter=',')"
   ]
  },
  {
   "cell_type": "code",
   "execution_count": 32,
   "id": "e7469daa",
   "metadata": {},
   "outputs": [],
   "source": [
    "data = numpy.loadtxt(fname='/Users/ananyasmaranikadivendi/Downloads/data/inflammation-01.csv', delimiter=',')"
   ]
  },
  {
   "cell_type": "code",
   "execution_count": 33,
   "id": "41652759",
   "metadata": {},
   "outputs": [
    {
     "name": "stdout",
     "output_type": "stream",
     "text": [
      "[[0. 0. 1. ... 3. 0. 0.]\n",
      " [0. 1. 2. ... 1. 0. 1.]\n",
      " [0. 1. 1. ... 2. 1. 1.]\n",
      " ...\n",
      " [0. 1. 1. ... 1. 1. 1.]\n",
      " [0. 0. 0. ... 0. 2. 0.]\n",
      " [0. 0. 1. ... 1. 1. 0.]]\n"
     ]
    }
   ],
   "source": [
    "print(data)"
   ]
  },
  {
   "cell_type": "code",
   "execution_count": 30,
   "id": "71edc408",
   "metadata": {},
   "outputs": [
    {
     "name": "stdout",
     "output_type": "stream",
     "text": [
      "<class 'numpy.ndarray'>\n"
     ]
    }
   ],
   "source": [
    "print(type(data))"
   ]
  },
  {
   "cell_type": "markdown",
   "id": "c2b98886",
   "metadata": {},
   "source": [
    "# DATA TYPE"
   ]
  },
  {
   "cell_type": "code",
   "execution_count": 31,
   "id": "c31a471f",
   "metadata": {},
   "outputs": [
    {
     "name": "stdout",
     "output_type": "stream",
     "text": [
      "float64\n"
     ]
    }
   ],
   "source": [
    "print(data.dtype)"
   ]
  },
  {
   "cell_type": "code",
   "execution_count": 36,
   "id": "00511192",
   "metadata": {},
   "outputs": [
    {
     "name": "stdout",
     "output_type": "stream",
     "text": [
      "(60, 40)\n"
     ]
    }
   ],
   "source": [
    "print(data.shape)"
   ]
  },
  {
   "cell_type": "code",
   "execution_count": 37,
   "id": "2cde3995",
   "metadata": {},
   "outputs": [
    {
     "name": "stdout",
     "output_type": "stream",
     "text": [
      "first value in data: 0.0\n"
     ]
    }
   ],
   "source": [
    "print('first value in data:', data[0, 0])"
   ]
  },
  {
   "cell_type": "code",
   "execution_count": 38,
   "id": "85e82d5e",
   "metadata": {},
   "outputs": [
    {
     "name": "stdout",
     "output_type": "stream",
     "text": [
      "middle value in data: 16.0\n"
     ]
    }
   ],
   "source": [
    "print('middle value in data:', data[29, 19])"
   ]
  },
  {
   "cell_type": "markdown",
   "id": "e55cf01a",
   "metadata": {},
   "source": [
    "# SLICING DATA"
   ]
  },
  {
   "cell_type": "code",
   "execution_count": 39,
   "id": "79dd3011",
   "metadata": {},
   "outputs": [
    {
     "name": "stdout",
     "output_type": "stream",
     "text": [
      "[[0. 0. 1. 3. 1. 2. 4. 7. 8. 3.]\n",
      " [0. 1. 2. 1. 2. 1. 3. 2. 2. 6.]\n",
      " [0. 1. 1. 3. 3. 2. 6. 2. 5. 9.]\n",
      " [0. 0. 2. 0. 4. 2. 2. 1. 6. 7.]]\n"
     ]
    }
   ],
   "source": [
    "print(data[0:4, 0:10])"
   ]
  },
  {
   "cell_type": "code",
   "execution_count": 40,
   "id": "fc8ab6c2",
   "metadata": {},
   "outputs": [
    {
     "name": "stdout",
     "output_type": "stream",
     "text": [
      "[[0. 0. 1. 2. 2. 4. 2. 1. 6. 4.]\n",
      " [0. 0. 2. 2. 4. 2. 2. 5. 5. 8.]\n",
      " [0. 0. 1. 2. 3. 1. 2. 3. 5. 3.]\n",
      " [0. 0. 0. 3. 1. 5. 6. 5. 5. 8.]\n",
      " [0. 1. 1. 2. 1. 3. 5. 3. 5. 8.]]\n"
     ]
    }
   ],
   "source": [
    "print(data[5:10, 0:10])"
   ]
  },
  {
   "cell_type": "code",
   "execution_count": 41,
   "id": "c71486b4",
   "metadata": {},
   "outputs": [
    {
     "name": "stdout",
     "output_type": "stream",
     "text": [
      "small is:\n",
      "[[2. 3. 0. 0.]\n",
      " [1. 1. 0. 1.]\n",
      " [2. 2. 1. 1.]]\n"
     ]
    }
   ],
   "source": [
    "small = data[:3, 36:]\n",
    "print('small is:')\n",
    "print(small)"
   ]
  },
  {
   "cell_type": "markdown",
   "id": "d1490e5a",
   "metadata": {},
   "source": [
    "# ANALYZING DATA"
   ]
  },
  {
   "cell_type": "code",
   "execution_count": 42,
   "id": "76b15413",
   "metadata": {},
   "outputs": [
    {
     "name": "stdout",
     "output_type": "stream",
     "text": [
      "6.14875\n"
     ]
    }
   ],
   "source": [
    "print(numpy.mean(data))"
   ]
  },
  {
   "cell_type": "markdown",
   "id": "f34e7056",
   "metadata": {},
   "source": [
    "# NOT ALL FUNCTIONS HAVE INPUT"
   ]
  },
  {
   "cell_type": "code",
   "execution_count": 43,
   "id": "0044534c",
   "metadata": {},
   "outputs": [
    {
     "name": "stdout",
     "output_type": "stream",
     "text": [
      "Fri May 10 17:37:58 2024\n"
     ]
    }
   ],
   "source": [
    "import time\n",
    "print(time.ctime())"
   ]
  },
  {
   "cell_type": "code",
   "execution_count": 44,
   "id": "a667af18",
   "metadata": {},
   "outputs": [
    {
     "name": "stdout",
     "output_type": "stream",
     "text": [
      "maximum inflammation: 20.0\n",
      "minimum inflammation: 0.0\n",
      "standard deviation: 4.613833197118566\n"
     ]
    }
   ],
   "source": [
    "maxval, minval, stdval = numpy.amax(data), numpy.amin(data), numpy.std(data)\n",
    "\n",
    "print('maximum inflammation:', maxval)\n",
    "print('minimum inflammation:', minval)\n",
    "print('standard deviation:', stdval)"
   ]
  },
  {
   "cell_type": "markdown",
   "id": "8fe9ad6d",
   "metadata": {},
   "source": [
    "# CONFUSING FUNCTION NAMES"
   ]
  },
  {
   "cell_type": "code",
   "execution_count": 45,
   "id": "035e53f4",
   "metadata": {},
   "outputs": [
    {
     "name": "stdout",
     "output_type": "stream",
     "text": [
      "maximum inflammation for patient 0: 18.0\n"
     ]
    }
   ],
   "source": [
    "patient_0 = data[0, :] # 0 on the first axis (rows), everything on the second (columns)\n",
    "print('maximum inflammation for patient 0:', numpy.amax(patient_0))"
   ]
  },
  {
   "cell_type": "code",
   "execution_count": 46,
   "id": "e6a74058",
   "metadata": {},
   "outputs": [
    {
     "name": "stdout",
     "output_type": "stream",
     "text": [
      "maximum inflammation for patient 2: 19.0\n"
     ]
    }
   ],
   "source": [
    "print('maximum inflammation for patient 2:', numpy.amax(data[2, :]))"
   ]
  },
  {
   "cell_type": "code",
   "execution_count": 47,
   "id": "097de9fa",
   "metadata": {},
   "outputs": [
    {
     "name": "stdout",
     "output_type": "stream",
     "text": [
      "[ 0.          0.45        1.11666667  1.75        2.43333333  3.15\n",
      "  3.8         3.88333333  5.23333333  5.51666667  5.95        5.9\n",
      "  8.35        7.73333333  8.36666667  9.5         9.58333333 10.63333333\n",
      " 11.56666667 12.35       13.25       11.96666667 11.03333333 10.16666667\n",
      " 10.          8.66666667  9.15        7.25        7.33333333  6.58333333\n",
      "  6.06666667  5.95        5.11666667  3.6         3.3         3.56666667\n",
      "  2.48333333  1.5         1.13333333  0.56666667]\n"
     ]
    }
   ],
   "source": [
    "print(numpy.mean(data, axis=0))"
   ]
  },
  {
   "cell_type": "code",
   "execution_count": 48,
   "id": "072c6912",
   "metadata": {},
   "outputs": [
    {
     "name": "stdout",
     "output_type": "stream",
     "text": [
      "(40,)\n"
     ]
    }
   ],
   "source": [
    "print(numpy.mean(data, axis=0).shape)"
   ]
  },
  {
   "cell_type": "code",
   "execution_count": 49,
   "id": "c809fb3c",
   "metadata": {},
   "outputs": [
    {
     "name": "stdout",
     "output_type": "stream",
     "text": [
      "[5.45  5.425 6.1   5.9   5.55  6.225 5.975 6.65  6.625 6.525 6.775 5.8\n",
      " 6.225 5.75  5.225 6.3   6.55  5.7   5.85  6.55  5.775 5.825 6.175 6.1\n",
      " 5.8   6.425 6.05  6.025 6.175 6.55  6.175 6.35  6.725 6.125 7.075 5.725\n",
      " 5.925 6.15  6.075 5.75  5.975 5.725 6.3   5.9   6.75  5.925 7.225 6.15\n",
      " 5.95  6.275 5.7   6.1   6.825 5.975 6.725 5.7   6.25  6.4   7.05  5.9  ]\n"
     ]
    }
   ],
   "source": [
    "print(numpy.mean(data, axis=1))"
   ]
  },
  {
   "cell_type": "markdown",
   "id": "58cf7684",
   "metadata": {},
   "source": [
    "# SLICING STRINGS"
   ]
  },
  {
   "cell_type": "code",
   "execution_count": 50,
   "id": "7665cd9d",
   "metadata": {},
   "outputs": [
    {
     "name": "stdout",
     "output_type": "stream",
     "text": [
      "first three characters: oxy\n",
      "last three characters: gen\n"
     ]
    }
   ],
   "source": [
    "element = 'oxygen'\n",
    "print('first three characters:', element[0:3])\n",
    "print('last three characters:', element[3:6])"
   ]
  },
  {
   "cell_type": "code",
   "execution_count": 52,
   "id": "8ac4f848",
   "metadata": {},
   "outputs": [
    {
     "name": "stdout",
     "output_type": "stream",
     "text": [
      "Slice 1: oxyg\n",
      "Slice 2: en\n",
      "Slice 3: oxygen\n"
     ]
    }
   ],
   "source": [
    "element = 'oxygen'\n",
    "slice_1 = element[:4]\n",
    "slice_2 = element[4:]\n",
    "slice_3 = element[:]\n",
    "print(\"Slice 1:\", slice_1)\n",
    "print(\"Slice 2:\", slice_2)\n",
    "print(\"Slice 3:\", slice_3)"
   ]
  },
  {
   "cell_type": "code",
   "execution_count": 53,
   "id": "f93307d6",
   "metadata": {},
   "outputs": [
    {
     "name": "stdout",
     "output_type": "stream",
     "text": [
      "Character at index -1: n\n",
      "Character at index -2: e\n"
     ]
    }
   ],
   "source": [
    "element = 'oxygen'\n",
    "char_at_minus_1 = element[-1]\n",
    "char_at_minus_2 = element[-2]\n",
    "print(\"Character at index -1:\", char_at_minus_1)\n",
    "print(\"Character at index -2:\", char_at_minus_2)\n"
   ]
  },
  {
   "cell_type": "code",
   "execution_count": null,
   "id": "4e678454",
   "metadata": {},
   "outputs": [],
   "source": [
    "Given those answers, explain what element[1:-1] does.\n",
    "Solution: Creates a substring from index 1 up to (not including) the final index, effectively removing the first and last letters from ‘oxygen’"
   ]
  },
  {
   "cell_type": "code",
   "execution_count": 54,
   "id": "6cd814df",
   "metadata": {},
   "outputs": [
    {
     "name": "stdout",
     "output_type": "stream",
     "text": [
      "last three characters: gen\n",
      "last three characters: try\n",
      "last three characters: one\n",
      "last three characters: hi\n"
     ]
    }
   ],
   "source": [
    "element = 'oxygen'\n",
    "print('last three characters:', element[-3:])\n",
    "element = 'carpentry'\n",
    "print('last three characters:', element[-3:])\n",
    "element = 'clone'\n",
    "print('last three characters:', element[-3:])\n",
    "element = 'hi'\n",
    "print('last three characters:', element[-3:])"
   ]
  },
  {
   "cell_type": "markdown",
   "id": "921fb4ad",
   "metadata": {},
   "source": [
    "# THIN SLICES"
   ]
  },
  {
   "cell_type": "code",
   "execution_count": 136,
   "id": "30f623a4",
   "metadata": {},
   "outputs": [
    {
     "name": "stdout",
     "output_type": "stream",
     "text": [
      "array([], shape=(0, 0), dtype=float64)\n",
      "array([], shape=(0, 40), dtype=float64)\n"
     ]
    }
   ],
   "source": [
    "import numpy as np\n",
    "data = np.zeros((10, 40))\n",
    "empty_array_1 = data[3:3, 4:4]\n",
    "empty_array_2 = data[3:3, :]\n",
    "print(\"array([], shape={}, dtype={})\".format(empty_array_1.shape, empty_array_1.dtype))\n",
    "print(\"array([], shape={}, dtype={})\".format(empty_array_2.shape, empty_array_2.dtype))"
   ]
  },
  {
   "cell_type": "markdown",
   "id": "77f16882",
   "metadata": {},
   "source": [
    "# STACKING ARRAYS"
   ]
  },
  {
   "cell_type": "code",
   "execution_count": 60,
   "id": "956c553f",
   "metadata": {},
   "outputs": [
    {
     "name": "stdout",
     "output_type": "stream",
     "text": [
      "A = \n",
      "[[1 2 3]\n",
      " [4 5 6]\n",
      " [7 8 9]]\n",
      "B = \n",
      "[[1 2 3 1 2 3]\n",
      " [4 5 6 4 5 6]\n",
      " [7 8 9 7 8 9]]\n",
      "C = \n",
      "[[1 2 3]\n",
      " [4 5 6]\n",
      " [7 8 9]\n",
      " [1 2 3]\n",
      " [4 5 6]\n",
      " [7 8 9]]\n"
     ]
    }
   ],
   "source": [
    "import numpy\n",
    "A = numpy.array([[1, 2, 3], [4, 5, 6], [7, 8, 9]])\n",
    "print('A = ')\n",
    "print(A)\n",
    "B = numpy.hstack([A, A])\n",
    "print('B = ')\n",
    "print(B)\n",
    "C = numpy.vstack([A, A])\n",
    "print('C = ')\n",
    "print(C)"
   ]
  },
  {
   "cell_type": "code",
   "execution_count": 61,
   "id": "c5c4ba68",
   "metadata": {},
   "outputs": [
    {
     "name": "stdout",
     "output_type": "stream",
     "text": [
      "D = \n",
      "[[1 3]\n",
      " [4 6]\n",
      " [7 9]]\n"
     ]
    }
   ],
   "source": [
    "D = numpy.hstack((A[:, :1], A[:, -1:]))\n",
    "print('D = ')\n",
    "print(D)"
   ]
  },
  {
   "cell_type": "code",
   "execution_count": 62,
   "id": "d1cc0d69",
   "metadata": {},
   "outputs": [
    {
     "name": "stdout",
     "output_type": "stream",
     "text": [
      "D = \n",
      "[[1 3]\n",
      " [4 6]\n",
      " [7 9]]\n"
     ]
    }
   ],
   "source": [
    "D = numpy.delete(arr=A, obj=1, axis=1)\n",
    "print('D = ')\n",
    "print(D)"
   ]
  },
  {
   "cell_type": "markdown",
   "id": "00db7d39",
   "metadata": {},
   "source": [
    "# CHANGE IN INFLAMMATION"
   ]
  },
  {
   "cell_type": "code",
   "execution_count": 124,
   "id": "10705202",
   "metadata": {},
   "outputs": [
    {
     "name": "stdout",
     "output_type": "stream",
     "text": [
      "[0. 0. 2. 0. 4. 2. 2.]\n"
     ]
    }
   ],
   "source": [
    "patient3_week1 = data[3, :7]\n",
    "print(patient3_week1)"
   ]
  },
  {
   "cell_type": "code",
   "execution_count": 125,
   "id": "2ade9523",
   "metadata": {},
   "outputs": [
    {
     "data": {
      "text/plain": [
       "array([ 0.,  2., -2.,  4., -2.,  0.])"
      ]
     },
     "execution_count": 125,
     "metadata": {},
     "output_type": "execute_result"
    }
   ],
   "source": [
    "[ 0 - 0, 2 - 0, 0 - 2, 4 - 0, 2 - 4, 2 - 2 ]\n",
    "numpy.diff(patient3_week1)"
   ]
  },
  {
   "cell_type": "code",
   "execution_count": null,
   "id": "e6547edb",
   "metadata": {},
   "outputs": [],
   "source": [
    "# If the shape of an individual data file is (60, 40) (60 rows and 40 columns), what would the shape of the array be after you run the diff() function and why?\n",
    "# Solution: The shape will be (60, 39) because there is one fewer difference between columns than there are columns in the data."
   ]
  },
  {
   "cell_type": "code",
   "execution_count": 126,
   "id": "0f1d2c14",
   "metadata": {},
   "outputs": [
    {
     "data": {
      "text/plain": [
       "array([ 7., 12., 11., 10., 11., 13., 10.,  8., 10., 10.,  7.,  7., 13.,\n",
       "        7., 10., 10.,  8., 10.,  9., 10., 13.,  7., 12.,  9., 12., 11.,\n",
       "       10., 10.,  7., 10., 11., 10.,  8., 11., 12., 10.,  9., 10., 13.,\n",
       "       10.,  7.,  7., 10., 13., 12.,  8.,  8., 10., 10.,  9.,  8., 13.,\n",
       "       10.,  7., 10.,  8., 12., 10.,  7., 12.])"
      ]
     },
     "execution_count": 126,
     "metadata": {},
     "output_type": "execute_result"
    }
   ],
   "source": [
    "numpy.amax(numpy.diff(data, axis=1), axis=1)"
   ]
  },
  {
   "cell_type": "code",
   "execution_count": 127,
   "id": "3b238b04",
   "metadata": {},
   "outputs": [
    {
     "data": {
      "text/plain": [
       "array([12., 14., 11., 13., 11., 13., 10., 12., 10., 10., 10., 12., 13.,\n",
       "       10., 11., 10., 12., 13.,  9., 10., 13.,  9., 12.,  9., 12., 11.,\n",
       "       10., 13.,  9., 13., 11., 11.,  8., 11., 12., 13.,  9., 10., 13.,\n",
       "       11., 11., 13., 11., 13., 13., 10.,  9., 10., 10.,  9.,  9., 13.,\n",
       "       10.,  9., 10., 11., 13., 10., 10., 12.])"
      ]
     },
     "execution_count": 127,
     "metadata": {},
     "output_type": "execute_result"
    }
   ],
   "source": [
    "numpy.amax(numpy.absolute(numpy.diff(data, axis=1)), axis=1)"
   ]
  },
  {
   "cell_type": "markdown",
   "id": "1a744365",
   "metadata": {},
   "source": [
    "# VISUALIZING DATA"
   ]
  },
  {
   "cell_type": "code",
   "execution_count": 72,
   "id": "88da227a",
   "metadata": {},
   "outputs": [],
   "source": [
    "import numpy\n",
    "data = numpy.loadtxt(fname='/Users/ananyasmaranikadivendi/Downloads/data/inflammation-01.csv', delimiter=',')"
   ]
  },
  {
   "cell_type": "code",
   "execution_count": 73,
   "id": "45041c4e",
   "metadata": {},
   "outputs": [
    {
     "data": {
      "image/png": "[encoded data removed]",
      "text/plain": [
       "<Figure size 640x480 with 1 Axes>"
      ]
     },
     "metadata": {},
     "output_type": "display_data"
    }
   ],
   "source": [
    "import matplotlib.pyplot\n",
    "image = matplotlib.pyplot.imshow(data)\n",
    "matplotlib.pyplot.show()"
   ]
  },
  {
   "cell_type": "code",
   "execution_count": 74,
   "id": "aa5505df",
   "metadata": {},
   "outputs": [
    {
     "data": {
      "image/png": "[encoded data removed]",
      "text/plain": [
       "<Figure size 640x480 with 1 Axes>"
      ]
     },
     "metadata": {},
     "output_type": "display_data"
    }
   ],
   "source": [
    "ave_inflammation = numpy.mean(data, axis=0)\n",
    "ave_plot = matplotlib.pyplot.plot(ave_inflammation)\n",
    "matplotlib.pyplot.show()"
   ]
  },
  {
   "cell_type": "code",
   "execution_count": 75,
   "id": "c4679c4f",
   "metadata": {},
   "outputs": [
    {
     "data": {
      "image/png": "[encoded data removed]",
      "text/plain": [
       "<Figure size 640x480 with 1 Axes>"
      ]
     },
     "metadata": {},
     "output_type": "display_data"
    }
   ],
   "source": [
    "max_plot = matplotlib.pyplot.plot(numpy.amax(data, axis=0))\n",
    "matplotlib.pyplot.show()"
   ]
  },
  {
   "cell_type": "code",
   "execution_count": 76,
   "id": "2d0907ba",
   "metadata": {},
   "outputs": [
    {
     "data": {
      "image/png": "[encoded data removed]",
      "text/plain": [
       "<Figure size 640x480 with 1 Axes>"
      ]
     },
     "metadata": {},
     "output_type": "display_data"
    }
   ],
   "source": [
    "min_plot = matplotlib.pyplot.plot(numpy.amin(data, axis=0))\n",
    "matplotlib.pyplot.show()"
   ]
  },
  {
   "cell_type": "markdown",
   "id": "d70c9acf",
   "metadata": {},
   "source": [
    "# GROUPING PLOTS"
   ]
  },
  {
   "cell_type": "code",
   "execution_count": 78,
   "id": "75c1956a",
   "metadata": {},
   "outputs": [
    {
     "data": {
      "image/png": "[encoded data removed]",
      "text/plain": [
       "<Figure size 1000x300 with 3 Axes>"
      ]
     },
     "metadata": {},
     "output_type": "display_data"
    }
   ],
   "source": [
    "import numpy\n",
    "import matplotlib.pyplot\n",
    "\n",
    "data = numpy.loadtxt(fname='/Users/ananyasmaranikadivendi/Downloads/data/inflammation-01.csv', delimiter=',')\n",
    "\n",
    "fig = matplotlib.pyplot.figure(figsize=(10.0, 3.0))\n",
    "\n",
    "axes1 = fig.add_subplot(1, 3, 1)\n",
    "axes2 = fig.add_subplot(1, 3, 2)\n",
    "axes3 = fig.add_subplot(1, 3, 3)\n",
    "\n",
    "axes1.set_ylabel('average')\n",
    "axes1.plot(numpy.mean(data, axis=0))\n",
    "\n",
    "axes2.set_ylabel('max')\n",
    "axes2.plot(numpy.amax(data, axis=0))\n",
    "\n",
    "axes3.set_ylabel('min')\n",
    "axes3.plot(numpy.amin(data, axis=0))\n",
    "\n",
    "fig.tight_layout()\n",
    "\n",
    "matplotlib.pyplot.savefig('inflammation.png')\n",
    "matplotlib.pyplot.show()"
   ]
  },
  {
   "cell_type": "markdown",
   "id": "d5ceca30",
   "metadata": {},
   "source": [
    "# PLOT SCALING"
   ]
  },
  {
   "cell_type": "code",
   "execution_count": null,
   "id": "d1a22c30",
   "metadata": {},
   "outputs": [],
   "source": [
    "Why do all of our plots stop just short of the upper end of our graph?\n",
    "Solution: Because matplotlib normally sets x and y axes limits to the min and max of our data (depending on data range)"
   ]
  },
  {
   "cell_type": "code",
   "execution_count": 79,
   "id": "3db94e14",
   "metadata": {},
   "outputs": [
    {
     "data": {
      "text/plain": [
       "(0.0, 6.0)"
      ]
     },
     "execution_count": 79,
     "metadata": {},
     "output_type": "execute_result"
    }
   ],
   "source": [
    "axes3.set_ylim(0, 6)"
   ]
  },
  {
   "cell_type": "markdown",
   "id": "778f1bb1",
   "metadata": {},
   "source": [
    "# # ONE METHOD"
   ]
  },
  {
   "cell_type": "code",
   "execution_count": 80,
   "id": "73d2643b",
   "metadata": {},
   "outputs": [
    {
     "data": {
      "text/plain": [
       "(0.0, 6.0)"
      ]
     },
     "execution_count": 80,
     "metadata": {},
     "output_type": "execute_result"
    }
   ],
   "source": [
    "axes3.set_ylabel('min')\n",
    "axes3.plot(numpy.amin(data, axis=0))\n",
    "axes3.set_ylim(0, 6)"
   ]
  },
  {
   "cell_type": "markdown",
   "id": "9587b4f9",
   "metadata": {},
   "source": [
    "# # A MORE AUTOMATED APPROACH "
   ]
  },
  {
   "cell_type": "code",
   "execution_count": 81,
   "id": "01c0102c",
   "metadata": {},
   "outputs": [
    {
     "data": {
      "text/plain": [
       "(0.0, 5.5)"
      ]
     },
     "execution_count": 81,
     "metadata": {},
     "output_type": "execute_result"
    }
   ],
   "source": [
    "min_data = numpy.amin(data, axis=0)\n",
    "axes3.set_ylabel('min')\n",
    "axes3.plot(min_data)\n",
    "axes3.set_ylim(numpy.amin(min_data), numpy.amax(min_data) * 1.1)"
   ]
  },
  {
   "cell_type": "markdown",
   "id": "3e17e26a",
   "metadata": {},
   "source": [
    "# DRAWING STRAIGHT LINES"
   ]
  },
  {
   "cell_type": "code",
   "execution_count": 83,
   "id": "0f3de707",
   "metadata": {},
   "outputs": [
    {
     "data": {
      "image/png": "[encoded data removed]",
      "text/plain": [
       "<Figure size 1000x300 with 3 Axes>"
      ]
     },
     "metadata": {},
     "output_type": "display_data"
    }
   ],
   "source": [
    "import numpy\n",
    "import matplotlib.pyplot\n",
    "\n",
    "data = numpy.loadtxt(fname='/Users/ananyasmaranikadivendi/Downloads/data/inflammation-01.csv', delimiter=',')\n",
    "\n",
    "fig = matplotlib.pyplot.figure(figsize=(10.0, 3.0))\n",
    "\n",
    "axes1 = fig.add_subplot(1, 3, 1)\n",
    "axes2 = fig.add_subplot(1, 3, 2)\n",
    "axes3 = fig.add_subplot(1, 3, 3)\n",
    "\n",
    "axes1.set_ylabel('average')\n",
    "axes1.plot(numpy.mean(data, axis=0), drawstyle='steps-mid')\n",
    "\n",
    "axes2.set_ylabel('max')\n",
    "axes2.plot(numpy.amax(data, axis=0), drawstyle='steps-mid')\n",
    "\n",
    "axes3.set_ylabel('min')\n",
    "axes3.plot(numpy.amin(data, axis=0), drawstyle='steps-mid')\n",
    "\n",
    "fig.tight_layout()\n",
    "\n",
    "matplotlib.pyplot.show()"
   ]
  },
  {
   "cell_type": "markdown",
   "id": "6727faf2",
   "metadata": {},
   "source": [
    "# MAKE YOUR OWN PLOT"
   ]
  },
  {
   "cell_type": "code",
   "execution_count": 84,
   "id": "dcfe6c70",
   "metadata": {},
   "outputs": [
    {
     "data": {
      "image/png": "[encoded data removed]",
      "text/plain": [
       "<Figure size 640x480 with 1 Axes>"
      ]
     },
     "metadata": {},
     "output_type": "display_data"
    }
   ],
   "source": [
    "std_plot = matplotlib.pyplot.plot(numpy.std(data, axis=0))\n",
    "matplotlib.pyplot.show()"
   ]
  },
  {
   "cell_type": "markdown",
   "id": "9ed81c7e",
   "metadata": {},
   "source": [
    "# MOVING PLOTS AROUND"
   ]
  },
  {
   "cell_type": "code",
   "execution_count": 86,
   "id": "61d41e3d",
   "metadata": {},
   "outputs": [
    {
     "data": {
      "image/png": "[encoded data removed]",
      "text/plain": [
       "<Figure size 300x1000 with 3 Axes>"
      ]
     },
     "metadata": {},
     "output_type": "display_data"
    }
   ],
   "source": [
    "import numpy\n",
    "import matplotlib.pyplot\n",
    "\n",
    "data = numpy.loadtxt(fname='/Users/ananyasmaranikadivendi/Downloads/data/inflammation-01.csv', delimiter=',')\n",
    "\n",
    "# change figsize (swap width and height)\n",
    "fig = matplotlib.pyplot.figure(figsize=(3.0, 10.0))\n",
    "\n",
    "# change add_subplot (swap first two parameters)\n",
    "axes1 = fig.add_subplot(3, 1, 1)\n",
    "axes2 = fig.add_subplot(3, 1, 2)\n",
    "axes3 = fig.add_subplot(3, 1, 3)\n",
    "\n",
    "axes1.set_ylabel('average')\n",
    "axes1.plot(numpy.mean(data, axis=0))\n",
    "\n",
    "axes2.set_ylabel('max')\n",
    "axes2.plot(numpy.amax(data, axis=0))\n",
    "\n",
    "axes3.set_ylabel('min')\n",
    "axes3.plot(numpy.amin(data, axis=0))\n",
    "\n",
    "fig.tight_layout()\n",
    "\n",
    "matplotlib.pyplot.show()"
   ]
  },
  {
   "cell_type": "markdown",
   "id": "0ff36975",
   "metadata": {},
   "source": [
    "# STORING MULTIPLE VALUES IN LIST"
   ]
  },
  {
   "cell_type": "markdown",
   "id": "35b1356c",
   "metadata": {},
   "source": [
    "# PYTHON LISTS"
   ]
  },
  {
   "cell_type": "code",
   "execution_count": 87,
   "id": "2064e3b7",
   "metadata": {},
   "outputs": [
    {
     "name": "stdout",
     "output_type": "stream",
     "text": [
      "odds are: [1, 3, 5, 7]\n"
     ]
    }
   ],
   "source": [
    "odds = [1, 3, 5, 7]\n",
    "print('odds are:', odds)"
   ]
  },
  {
   "cell_type": "code",
   "execution_count": 88,
   "id": "489eb3a6",
   "metadata": {},
   "outputs": [
    {
     "name": "stdout",
     "output_type": "stream",
     "text": [
      "first element: 1\n",
      "last element: 7\n",
      "\"-1\" element: 7\n"
     ]
    }
   ],
   "source": [
    "print('first element:', odds[0])\n",
    "print('last element:', odds[3])\n",
    "print('\"-1\" element:', odds[-1])"
   ]
  },
  {
   "cell_type": "code",
   "execution_count": 89,
   "id": "ca874c57",
   "metadata": {},
   "outputs": [
    {
     "name": "stdout",
     "output_type": "stream",
     "text": [
      "names is originally: ['Curie', 'Darwing', 'Turing']\n",
      "final value of names: ['Curie', 'Darwin', 'Turing']\n"
     ]
    }
   ],
   "source": [
    "names = ['Curie', 'Darwing', 'Turing']  # typo in Darwin's name\n",
    "print('names is originally:', names)\n",
    "names[1] = 'Darwin'  # correct the name\n",
    "print('final value of names:', names)"
   ]
  },
  {
   "cell_type": "code",
   "execution_count": 90,
   "id": "b5b297a7",
   "metadata": {},
   "outputs": [
    {
     "name": "stdout",
     "output_type": "stream",
     "text": [
      "Ingredients in mild salsa: ['hot peppers', 'onions', 'cilantro', 'tomatoes']\n",
      "Ingredients in hot salsa: ['hot peppers', 'onions', 'cilantro', 'tomatoes']\n"
     ]
    }
   ],
   "source": [
    "mild_salsa = ['peppers', 'onions', 'cilantro', 'tomatoes']\n",
    "hot_salsa = mild_salsa        # <-- mild_salsa and hot_salsa point to the *same* list data in memory\n",
    "hot_salsa[0] = 'hot peppers'\n",
    "print('Ingredients in mild salsa:', mild_salsa)\n",
    "print('Ingredients in hot salsa:', hot_salsa)"
   ]
  },
  {
   "cell_type": "code",
   "execution_count": 91,
   "id": "dbae5710",
   "metadata": {},
   "outputs": [
    {
     "name": "stdout",
     "output_type": "stream",
     "text": [
      "Ingredients in mild salsa: ['peppers', 'onions', 'cilantro', 'tomatoes']\n",
      "Ingredients in hot salsa: ['hot peppers', 'onions', 'cilantro', 'tomatoes']\n"
     ]
    }
   ],
   "source": [
    "# If you want variables with mutable values to be independent, you must make a copy of the value when you assign it.\n",
    "mild_salsa = ['peppers', 'onions', 'cilantro', 'tomatoes']\n",
    "hot_salsa = list(mild_salsa)        # <-- makes a *copy* of the list\n",
    "hot_salsa[0] = 'hot peppers'\n",
    "print('Ingredients in mild salsa:', mild_salsa)\n",
    "print('Ingredients in hot salsa:', hot_salsa)"
   ]
  },
  {
   "cell_type": "markdown",
   "id": "8639ca03",
   "metadata": {},
   "source": [
    "# NESTED LISTS"
   ]
  },
  {
   "cell_type": "code",
   "execution_count": 92,
   "id": "0902d45a",
   "metadata": {},
   "outputs": [],
   "source": [
    "veg = [['lettuce', 'lettuce', 'peppers', 'zucchini'],\n",
    "     ['lettuce', 'lettuce', 'peppers', 'zucchini'],\n",
    "     ['lettuce', 'cilantro', 'peppers', 'zucchini']]"
   ]
  },
  {
   "cell_type": "code",
   "execution_count": 93,
   "id": "6a71432f",
   "metadata": {},
   "outputs": [
    {
     "name": "stdout",
     "output_type": "stream",
     "text": [
      "['lettuce', 'cilantro', 'peppers', 'zucchini']\n"
     ]
    }
   ],
   "source": [
    "print(veg[2])"
   ]
  },
  {
   "cell_type": "code",
   "execution_count": 94,
   "id": "2d7d4b2c",
   "metadata": {},
   "outputs": [
    {
     "name": "stdout",
     "output_type": "stream",
     "text": [
      "['lettuce', 'lettuce', 'peppers', 'zucchini']\n"
     ]
    }
   ],
   "source": [
    "print(veg[0])"
   ]
  },
  {
   "cell_type": "code",
   "execution_count": 95,
   "id": "5a4c86fa",
   "metadata": {},
   "outputs": [
    {
     "name": "stdout",
     "output_type": "stream",
     "text": [
      "lettuce\n"
     ]
    }
   ],
   "source": [
    "print(veg[0][0])"
   ]
  },
  {
   "cell_type": "code",
   "execution_count": 96,
   "id": "f513f39c",
   "metadata": {},
   "outputs": [
    {
     "name": "stdout",
     "output_type": "stream",
     "text": [
      "peppers\n"
     ]
    }
   ],
   "source": [
    "print(veg[1][2])"
   ]
  },
  {
   "cell_type": "markdown",
   "id": "c1dfd788",
   "metadata": {},
   "source": [
    "# HETEROGENEOUS LISTS"
   ]
  },
  {
   "cell_type": "code",
   "execution_count": 97,
   "id": "9fcec621",
   "metadata": {},
   "outputs": [],
   "source": [
    "sample_ages = [10, 12.5, 'Unknown']"
   ]
  },
  {
   "cell_type": "code",
   "execution_count": 98,
   "id": "1cc137e0",
   "metadata": {},
   "outputs": [
    {
     "name": "stdout",
     "output_type": "stream",
     "text": [
      "odds after adding a value: [1, 3, 5, 7, 11]\n"
     ]
    }
   ],
   "source": [
    "odds.append(11)\n",
    "print('odds after adding a value:', odds)"
   ]
  },
  {
   "cell_type": "code",
   "execution_count": 99,
   "id": "7c0c7f5d",
   "metadata": {},
   "outputs": [
    {
     "name": "stdout",
     "output_type": "stream",
     "text": [
      "odds after removing the first element: [3, 5, 7, 11]\n",
      "removed_element: 1\n"
     ]
    }
   ],
   "source": [
    "removed_element = odds.pop(0)\n",
    "print('odds after removing the first element:', odds)\n",
    "print('removed_element:', removed_element)"
   ]
  },
  {
   "cell_type": "code",
   "execution_count": 100,
   "id": "413a494c",
   "metadata": {},
   "outputs": [
    {
     "name": "stdout",
     "output_type": "stream",
     "text": [
      "odds after reversing: [11, 7, 5, 3]\n"
     ]
    }
   ],
   "source": [
    "odds.reverse()\n",
    "print('odds after reversing:', odds)"
   ]
  },
  {
   "cell_type": "code",
   "execution_count": 101,
   "id": "0ef1173d",
   "metadata": {},
   "outputs": [
    {
     "name": "stdout",
     "output_type": "stream",
     "text": [
      "primes: [3, 5, 7, 2]\n",
      "odds: [3, 5, 7, 2]\n"
     ]
    }
   ],
   "source": [
    "odds = [3, 5, 7]\n",
    "primes = odds\n",
    "primes.append(2)\n",
    "print('primes:', primes)\n",
    "print('odds:', odds)"
   ]
  },
  {
   "cell_type": "code",
   "execution_count": 102,
   "id": "67d2672d",
   "metadata": {},
   "outputs": [
    {
     "name": "stdout",
     "output_type": "stream",
     "text": [
      "primes: [3, 5, 7, 2]\n",
      "odds: [3, 5, 7]\n"
     ]
    }
   ],
   "source": [
    "odds = [3, 5, 7]\n",
    "primes = list(odds)\n",
    "primes.append(2)\n",
    "print('primes:', primes)\n",
    "print('odds:', odds)"
   ]
  },
  {
   "cell_type": "code",
   "execution_count": 103,
   "id": "b2f91173",
   "metadata": {},
   "outputs": [
    {
     "name": "stdout",
     "output_type": "stream",
     "text": [
      "group: Drosophila\n",
      "species: melanogaster\n",
      "autosomes: ['2', '3', '4']\n",
      "last: 4\n"
     ]
    }
   ],
   "source": [
    "binomial_name = 'Drosophila melanogaster'\n",
    "group = binomial_name[0:10]\n",
    "print('group:', group)\n",
    "\n",
    "species = binomial_name[11:23]\n",
    "print('species:', species)\n",
    "\n",
    "chromosomes = ['X', 'Y', '2', '3', '4']\n",
    "autosomes = chromosomes[2:5]\n",
    "print('autosomes:', autosomes)\n",
    "\n",
    "last = chromosomes[-1]\n",
    "print('last:', last)"
   ]
  },
  {
   "cell_type": "markdown",
   "id": "c736e8a1",
   "metadata": {},
   "source": [
    "# SLICING FROM THE END"
   ]
  },
  {
   "cell_type": "code",
   "execution_count": 104,
   "id": "551fca16",
   "metadata": {},
   "outputs": [],
   "source": [
    "string_for_slicing = 'Observation date: 02-Feb-2013'\n",
    "list_for_slicing = [['fluorine', 'F'],\n",
    "                    ['chlorine', 'Cl'],\n",
    "                    ['bromine', 'Br'],\n",
    "                    ['iodine', 'I'],\n",
    "                    ['astatine', 'At']]"
   ]
  },
  {
   "cell_type": "code",
   "execution_count": 105,
   "id": "c526f342",
   "metadata": {},
   "outputs": [
    {
     "data": {
      "text/plain": [
       "[['chlorine', 'Cl'], ['bromine', 'Br'], ['iodine', 'I'], ['astatine', 'At']]"
      ]
     },
     "execution_count": 105,
     "metadata": {},
     "output_type": "execute_result"
    }
   ],
   "source": [
    "string_for_slicing[-4:]\n",
    "list_for_slicing[-4:]"
   ]
  },
  {
   "cell_type": "markdown",
   "id": "d17f62cc",
   "metadata": {},
   "source": [
    "# NON-CONTINUOUS SLICES"
   ]
  },
  {
   "cell_type": "code",
   "execution_count": 106,
   "id": "13710fbc",
   "metadata": {},
   "outputs": [
    {
     "name": "stdout",
     "output_type": "stream",
     "text": [
      "subset [2, 7, 17, 29]\n"
     ]
    }
   ],
   "source": [
    "primes = [2, 3, 5, 7, 11, 13, 17, 19, 23, 29, 31, 37]\n",
    "subset = primes[0:12:3]\n",
    "print('subset', subset)"
   ]
  },
  {
   "cell_type": "code",
   "execution_count": 107,
   "id": "8a35c13c",
   "metadata": {},
   "outputs": [
    {
     "name": "stdout",
     "output_type": "stream",
     "text": [
      "subset [5, 13, 23, 37]\n"
     ]
    }
   ],
   "source": [
    "primes = [2, 3, 5, 7, 11, 13, 17, 19, 23, 29, 31, 37]\n",
    "subset = primes[2:12:3]\n",
    "print('subset', subset)"
   ]
  },
  {
   "cell_type": "code",
   "execution_count": 108,
   "id": "8530fdff",
   "metadata": {},
   "outputs": [],
   "source": [
    "beatles = \"In an octopus's garden in the shade\""
   ]
  },
  {
   "cell_type": "code",
   "execution_count": 109,
   "id": "12888fc3",
   "metadata": {},
   "outputs": [
    {
     "data": {
      "text/plain": [
       "'I notpssgre ntesae'"
      ]
     },
     "execution_count": 109,
     "metadata": {},
     "output_type": "execute_result"
    }
   ],
   "source": [
    "beatles[0:35:2]"
   ]
  },
  {
   "cell_type": "code",
   "execution_count": 110,
   "id": "fd18128a",
   "metadata": {},
   "outputs": [
    {
     "data": {
      "text/plain": [
       "'I notpssgre ntesae'"
      ]
     },
     "execution_count": 110,
     "metadata": {},
     "output_type": "execute_result"
    }
   ],
   "source": [
    "beatles[::2]"
   ]
  },
  {
   "cell_type": "code",
   "execution_count": 111,
   "id": "d4f4ffb7",
   "metadata": {},
   "outputs": [
    {
     "name": "stdout",
     "output_type": "stream",
     "text": [
      "Using 0 to begin range: Monday\n",
      "Omitting beginning index: Monday\n"
     ]
    }
   ],
   "source": [
    "date = 'Monday 4 January 2016'\n",
    "day = date[0:6]\n",
    "print('Using 0 to begin range:', day)\n",
    "day = date[:6]\n",
    "print('Omitting beginning index:', day)"
   ]
  },
  {
   "cell_type": "code",
   "execution_count": 112,
   "id": "5cce8a99",
   "metadata": {},
   "outputs": [
    {
     "name": "stdout",
     "output_type": "stream",
     "text": [
      "With known last position: ['sep', 'oct', 'nov', 'dec']\n",
      "Using len() to get last entry: ['sep', 'oct', 'nov', 'dec']\n",
      "Omitting ending index: ['sep', 'oct', 'nov', 'dec']\n"
     ]
    }
   ],
   "source": [
    "months = ['jan', 'feb', 'mar', 'apr', 'may', 'jun', 'jul', 'aug', 'sep', 'oct', 'nov', 'dec']\n",
    "sond = months[8:12]\n",
    "print('With known last position:', sond)\n",
    "sond = months[8:len(months)]\n",
    "print('Using len() to get last entry:', sond)\n",
    "sond = months[8:]\n",
    "print('Omitting ending index:', sond)"
   ]
  },
  {
   "cell_type": "markdown",
   "id": "52cf3eaf",
   "metadata": {},
   "source": [
    "# OVERLOADING"
   ]
  },
  {
   "cell_type": "code",
   "execution_count": 113,
   "id": "79e608e1",
   "metadata": {},
   "outputs": [
    {
     "name": "stdout",
     "output_type": "stream",
     "text": [
      "[2, 4, 6, 8, 10, 2, 4, 6, 8, 10]\n"
     ]
    }
   ],
   "source": [
    "counts = [2, 4, 6, 8, 10]\n",
    "repeats = counts * 2\n",
    "print(repeats)"
   ]
  },
  {
   "cell_type": "code",
   "execution_count": 114,
   "id": "04c21c58",
   "metadata": {},
   "outputs": [
    {
     "data": {
      "text/plain": [
       "[2, 4, 6, 8, 10, 2, 4, 6, 8, 10]"
      ]
     },
     "execution_count": 114,
     "metadata": {},
     "output_type": "execute_result"
    }
   ],
   "source": [
    "counts + counts"
   ]
  },
  {
   "cell_type": "markdown",
   "id": "7ad7e36a",
   "metadata": {},
   "source": [
    "# REPEATING ACTIONS WITH LOOPS"
   ]
  },
  {
   "cell_type": "code",
   "execution_count": 116,
   "id": "b5ac5dbb",
   "metadata": {},
   "outputs": [],
   "source": [
    "odds = [1, 3, 5, 7]"
   ]
  },
  {
   "cell_type": "code",
   "execution_count": 117,
   "id": "5e5c0646",
   "metadata": {},
   "outputs": [
    {
     "name": "stdout",
     "output_type": "stream",
     "text": [
      "1\n",
      "3\n",
      "5\n",
      "7\n"
     ]
    }
   ],
   "source": [
    "print(odds[0])\n",
    "print(odds[1])\n",
    "print(odds[2])\n",
    "print(odds[3])"
   ]
  },
  {
   "cell_type": "code",
   "execution_count": 120,
   "id": "95c4c55b",
   "metadata": {},
   "outputs": [
    {
     "name": "stdout",
     "output_type": "stream",
     "text": [
      "1\n",
      "3\n",
      "5\n",
      "7\n"
     ]
    }
   ],
   "source": [
    "odds = [1, 3, 5, 7]\n",
    "for num in odds:\n",
    "    print(num)"
   ]
  },
  {
   "cell_type": "code",
   "execution_count": 121,
   "id": "14b78791",
   "metadata": {},
   "outputs": [
    {
     "name": "stdout",
     "output_type": "stream",
     "text": [
      "1\n",
      "3\n",
      "5\n",
      "7\n",
      "9\n",
      "11\n"
     ]
    }
   ],
   "source": [
    "odds = [1, 3, 5, 7, 9, 11]\n",
    "for num in odds:\n",
    "    print(num)"
   ]
  },
  {
   "cell_type": "markdown",
   "id": "056ecedf",
   "metadata": {},
   "source": [
    "# WHAT’S IN A NAME?"
   ]
  },
  {
   "cell_type": "code",
   "execution_count": 137,
   "id": "41789a6d",
   "metadata": {},
   "outputs": [
    {
     "name": "stdout",
     "output_type": "stream",
     "text": [
      "1\n",
      "3\n",
      "5\n",
      "7\n",
      "9\n",
      "11\n"
     ]
    }
   ],
   "source": [
    "odds = [1, 3, 5, 7, 9, 11]\n",
    "for banana in odds:\n",
    "    print(banana)"
   ]
  },
  {
   "cell_type": "code",
   "execution_count": 138,
   "id": "d0754562",
   "metadata": {},
   "outputs": [
    {
     "name": "stdout",
     "output_type": "stream",
     "text": [
      "There are 3 names in the list.\n"
     ]
    }
   ],
   "source": [
    "length = 0\n",
    "names = ['Curie', 'Darwin', 'Turing']\n",
    "for value in names:\n",
    "    length = length + 1\n",
    "print('There are', length, 'names in the list.')"
   ]
  },
  {
   "cell_type": "code",
   "execution_count": 139,
   "id": "72becf1c",
   "metadata": {},
   "outputs": [
    {
     "name": "stdout",
     "output_type": "stream",
     "text": [
      "Curie\n",
      "Darwin\n",
      "Turing\n",
      "after the loop, name is Turing\n"
     ]
    }
   ],
   "source": [
    "name = 'Rosalind'\n",
    "for name in ['Curie', 'Darwin', 'Turing']:\n",
    "    print(name)\n",
    "print('after the loop, name is', name)"
   ]
  },
  {
   "cell_type": "code",
   "execution_count": 140,
   "id": "b9cb1903",
   "metadata": {},
   "outputs": [
    {
     "name": "stdout",
     "output_type": "stream",
     "text": [
      "4\n"
     ]
    }
   ],
   "source": [
    "print(len([0, 1, 2, 3]))"
   ]
  },
  {
   "cell_type": "markdown",
   "id": "2346431a",
   "metadata": {},
   "source": [
    "# FROM 1 TO N"
   ]
  },
  {
   "cell_type": "code",
   "execution_count": 141,
   "id": "ab3fc78a",
   "metadata": {},
   "outputs": [
    {
     "name": "stdout",
     "output_type": "stream",
     "text": [
      "1\n",
      "2\n",
      "3\n"
     ]
    }
   ],
   "source": [
    "for number in range(1, 4):\n",
    "    print(number)"
   ]
  },
  {
   "cell_type": "code",
   "execution_count": 142,
   "id": "f4433a35",
   "metadata": {},
   "outputs": [
    {
     "name": "stdout",
     "output_type": "stream",
     "text": [
      "o\n",
      "x\n",
      "y\n",
      "g\n",
      "e\n",
      "n\n"
     ]
    }
   ],
   "source": [
    "word = 'oxygen'\n",
    "for letter in word:\n",
    "    print(letter)"
   ]
  },
  {
   "cell_type": "code",
   "execution_count": null,
   "id": "a65bbf49",
   "metadata": {},
   "outputs": [],
   "source": [
    "# The body of the loop is executed 6 times."
   ]
  },
  {
   "cell_type": "markdown",
   "id": "5a6f7ec2",
   "metadata": {},
   "source": [
    "# COMPUTING POWERS WITH LOOPS"
   ]
  },
  {
   "cell_type": "code",
   "execution_count": 143,
   "id": "a7ca4c1d",
   "metadata": {},
   "outputs": [
    {
     "name": "stdout",
     "output_type": "stream",
     "text": [
      "125\n"
     ]
    }
   ],
   "source": [
    "print(5 ** 3)"
   ]
  },
  {
   "cell_type": "code",
   "execution_count": 144,
   "id": "024c0c84",
   "metadata": {},
   "outputs": [
    {
     "name": "stdout",
     "output_type": "stream",
     "text": [
      "125\n"
     ]
    }
   ],
   "source": [
    "result = 1\n",
    "for number in range(0, 3):\n",
    "    result = result * 5\n",
    "print(result)"
   ]
  },
  {
   "cell_type": "markdown",
   "id": "3bb3e1e9",
   "metadata": {},
   "source": [
    "# SUMMING A LIST"
   ]
  },
  {
   "cell_type": "code",
   "execution_count": 145,
   "id": "0cce9170",
   "metadata": {},
   "outputs": [
    {
     "name": "stdout",
     "output_type": "stream",
     "text": [
      "562\n"
     ]
    }
   ],
   "source": [
    "numbers = [124, 402, 36]\n",
    "summed = 0\n",
    "for num in numbers:\n",
    "    summed = summed + num\n",
    "print(summed)"
   ]
  },
  {
   "cell_type": "markdown",
   "id": "8a47cf45",
   "metadata": {},
   "source": [
    "# COMPUTING THE VALUE OF A POLYNOMIAL"
   ]
  },
  {
   "cell_type": "code",
   "execution_count": 148,
   "id": "6720ddf7",
   "metadata": {},
   "outputs": [
    {
     "name": "stdout",
     "output_type": "stream",
     "text": [
      "97\n"
     ]
    }
   ],
   "source": [
    "x = 5\n",
    "coefs = [2, 4, 3]\n",
    "y = coefs[0] * x**0 + coefs[1] * x**1 + coefs[2] * x**2\n",
    "print(y)"
   ]
  },
  {
   "cell_type": "code",
   "execution_count": 149,
   "id": "2349f0c1",
   "metadata": {},
   "outputs": [],
   "source": [
    "y = 0\n",
    "for idx, coef in enumerate(coefs):\n",
    "    y = y + coef * x**idx"
   ]
  },
  {
   "cell_type": "markdown",
   "id": "47986fc2",
   "metadata": {},
   "source": [
    "# ANALYZIND DATA FROM MULTIPLE FILES\n"
   ]
  },
  {
   "cell_type": "code",
   "execution_count": 150,
   "id": "70690b5b",
   "metadata": {},
   "outputs": [],
   "source": [
    "import glob"
   ]
  },
  {
   "cell_type": "code",
   "execution_count": 153,
   "id": "a3898f7c",
   "metadata": {},
   "outputs": [
    {
     "name": "stdout",
     "output_type": "stream",
     "text": [
      "['/Users/ananyasmaranikadivendi/Downloads/data/inflammation-05.csv', '/Users/ananyasmaranikadivendi/Downloads/data/inflammation-11.csv', '/Users/ananyasmaranikadivendi/Downloads/data/inflammation-10.csv', '/Users/ananyasmaranikadivendi/Downloads/data/inflammation-04.csv', '/Users/ananyasmaranikadivendi/Downloads/data/inflammation-12.csv', '/Users/ananyasmaranikadivendi/Downloads/data/inflammation-06.csv', '/Users/ananyasmaranikadivendi/Downloads/data/inflammation-07.csv', '/Users/ananyasmaranikadivendi/Downloads/data/inflammation-03.csv', '/Users/ananyasmaranikadivendi/Downloads/data/inflammation-02.csv', '/Users/ananyasmaranikadivendi/Downloads/data/inflammation-01.csv', '/Users/ananyasmaranikadivendi/Downloads/data/inflammation-09.csv', '/Users/ananyasmaranikadivendi/Downloads/data/inflammation-08.csv']\n"
     ]
    }
   ],
   "source": [
    "print(glob.glob('/Users/ananyasmaranikadivendi/Downloads/data/inflammation*.csv'))"
   ]
  },
  {
   "cell_type": "code",
   "execution_count": 154,
   "id": "637efa6e",
   "metadata": {},
   "outputs": [
    {
     "name": "stdout",
     "output_type": "stream",
     "text": [
      "/Users/ananyasmaranikadivendi/Downloads/data/inflammation-01.csv\n"
     ]
    },
    {
     "data": {
      "image/png": "[encoded data removed]",
      "text/plain": [
       "<Figure size 1000x300 with 3 Axes>"
      ]
     },
     "metadata": {},
     "output_type": "display_data"
    },
    {
     "name": "stdout",
     "output_type": "stream",
     "text": [
      "/Users/ananyasmaranikadivendi/Downloads/data/inflammation-02.csv\n"
     ]
    },
    {
     "data": {
      "image/png": "[encoded data removed]",
      "text/plain": [
       "<Figure size 1000x300 with 3 Axes>"
      ]
     },
     "metadata": {},
     "output_type": "display_data"
    },
    {
     "name": "stdout",
     "output_type": "stream",
     "text": [
      "/Users/ananyasmaranikadivendi/Downloads/data/inflammation-03.csv\n"
     ]
    },
    {
     "data": {
      "image/png": "[encoded data removed]",
      "text/plain": [
       "<Figure size 1000x300 with 3 Axes>"
      ]
     },
     "metadata": {},
     "output_type": "display_data"
    }
   ],
   "source": [
    "import glob\n",
    "import numpy\n",
    "import matplotlib.pyplot\n",
    "\n",
    "filenames = sorted(glob.glob('/Users/ananyasmaranikadivendi/Downloads/data/inflammation*.csv'))\n",
    "filenames = filenames[0:3]\n",
    "for filename in filenames:\n",
    "    print(filename)\n",
    "\n",
    "    data = numpy.loadtxt(fname=filename, delimiter=',')\n",
    "\n",
    "    fig = matplotlib.pyplot.figure(figsize=(10.0, 3.0))\n",
    "\n",
    "    axes1 = fig.add_subplot(1, 3, 1)\n",
    "    axes2 = fig.add_subplot(1, 3, 2)\n",
    "    axes3 = fig.add_subplot(1, 3, 3)\n",
    "\n",
    "    axes1.set_ylabel('average')\n",
    "    axes1.plot(numpy.mean(data, axis=0))\n",
    "\n",
    "    axes2.set_ylabel('max')\n",
    "    axes2.plot(numpy.amax(data, axis=0))\n",
    "\n",
    "    axes3.set_ylabel('min')\n",
    "    axes3.plot(numpy.amin(data, axis=0))\n",
    "\n",
    "    fig.tight_layout()\n",
    "    matplotlib.pyplot.show()"
   ]
  },
  {
   "cell_type": "markdown",
   "id": "b75d2474",
   "metadata": {},
   "source": [
    "# PLOTTING DIFFERENCES"
   ]
  },
  {
   "cell_type": "code",
   "execution_count": 155,
   "id": "6634b4d1",
   "metadata": {},
   "outputs": [
    {
     "data": {
      "image/png": "[encoded data removed]",
      "text/plain": [
       "<Figure size 1000x300 with 1 Axes>"
      ]
     },
     "metadata": {},
     "output_type": "display_data"
    }
   ],
   "source": [
    "import glob\n",
    "import numpy\n",
    "import matplotlib.pyplot\n",
    "\n",
    "filenames = sorted(glob.glob('/Users/ananyasmaranikadivendi/Downloads/data/inflammation*.csv'))\n",
    "\n",
    "data0 = numpy.loadtxt(fname=filenames[0], delimiter=',')\n",
    "data1 = numpy.loadtxt(fname=filenames[1], delimiter=',')\n",
    "\n",
    "fig = matplotlib.pyplot.figure(figsize=(10.0, 3.0))\n",
    "\n",
    "matplotlib.pyplot.ylabel('Difference in average')\n",
    "matplotlib.pyplot.plot(numpy.mean(data0, axis=0) - numpy.mean(data1, axis=0))\n",
    "\n",
    "fig.tight_layout()\n",
    "matplotlib.pyplot.show()"
   ]
  },
  {
   "cell_type": "markdown",
   "id": "5db913fa",
   "metadata": {},
   "source": [
    "# GENERATE COMPOSITE STATISTICS"
   ]
  },
  {
   "cell_type": "code",
   "execution_count": 157,
   "id": "f522b802",
   "metadata": {},
   "outputs": [
    {
     "data": {
      "image/png": "[encoded data removed]",
      "text/plain": [
       "<Figure size 1000x300 with 3 Axes>"
      ]
     },
     "metadata": {},
     "output_type": "display_data"
    }
   ],
   "source": [
    "import glob\n",
    "import numpy\n",
    "import matplotlib.pyplot\n",
    "\n",
    "filenames = glob.glob('/Users/ananyasmaranikadivendi/Downloads/data/inflammation*.csv')\n",
    "composite_data = numpy.zeros((60, 40))\n",
    "\n",
    "for filename in filenames:\n",
    "    data = numpy.loadtxt(fname = filename, delimiter=',')\n",
    "    composite_data = composite_data + data\n",
    "\n",
    "composite_data = composite_data / len(filenames)\n",
    "\n",
    "fig = matplotlib.pyplot.figure(figsize=(10.0, 3.0))\n",
    "\n",
    "axes1 = fig.add_subplot(1, 3, 1)\n",
    "axes2 = fig.add_subplot(1, 3, 2)\n",
    "axes3 = fig.add_subplot(1, 3, 3)\n",
    "\n",
    "axes1.set_ylabel('average')\n",
    "axes1.plot(numpy.mean(composite_data, axis=0))\n",
    "\n",
    "axes2.set_ylabel('max')\n",
    "axes2.plot(numpy.amax(composite_data, axis=0))\n",
    "\n",
    "axes3.set_ylabel('min')\n",
    "axes3.plot(numpy.amin(composite_data, axis=0))\n",
    "\n",
    "fig.tight_layout()\n",
    "\n",
    "matplotlib.pyplot.show()"
   ]
  },
  {
   "cell_type": "markdown",
   "id": "74125d46",
   "metadata": {},
   "source": [
    "# MAKING CHOICES\n"
   ]
  },
  {
   "cell_type": "markdown",
   "id": "ae98a54d",
   "metadata": {},
   "source": [
    "# CONDITIONALS"
   ]
  },
  {
   "cell_type": "code",
   "execution_count": 158,
   "id": "515e0840",
   "metadata": {},
   "outputs": [
    {
     "name": "stdout",
     "output_type": "stream",
     "text": [
      "not greater\n",
      "done\n"
     ]
    }
   ],
   "source": [
    "num = 37\n",
    "if num > 100:\n",
    "    print('greater')\n",
    "else:\n",
    "    print('not greater')\n",
    "print('done')"
   ]
  },
  {
   "cell_type": "code",
   "execution_count": 159,
   "id": "60d17a24",
   "metadata": {},
   "outputs": [
    {
     "name": "stdout",
     "output_type": "stream",
     "text": [
      "before conditional...\n",
      "...after conditional\n"
     ]
    }
   ],
   "source": [
    "num = 53\n",
    "print('before conditional...')\n",
    "if num > 100:\n",
    "    print(num, 'is greater than 100')\n",
    "print('...after conditional')"
   ]
  },
  {
   "cell_type": "code",
   "execution_count": 160,
   "id": "e973fb12",
   "metadata": {},
   "outputs": [
    {
     "name": "stdout",
     "output_type": "stream",
     "text": [
      "-3 is negative\n"
     ]
    }
   ],
   "source": [
    "num = -3\n",
    "\n",
    "if num > 0:\n",
    "    print(num, 'is positive')\n",
    "elif num == 0:\n",
    "    print(num, 'is zero')\n",
    "else:\n",
    "    print(num, 'is negative')"
   ]
  },
  {
   "cell_type": "markdown",
   "id": "84732e7d",
   "metadata": {},
   "source": [
    "# COMPARING IN PYTHON"
   ]
  },
  {
   "cell_type": "code",
   "execution_count": 161,
   "id": "23688345",
   "metadata": {},
   "outputs": [
    {
     "name": "stdout",
     "output_type": "stream",
     "text": [
      "at least one part is false\n"
     ]
    }
   ],
   "source": [
    "if (1 > 0) and (-1 >= 0):\n",
    "    print('both parts are true')\n",
    "else:\n",
    "    print('at least one part is false')"
   ]
  },
  {
   "cell_type": "code",
   "execution_count": 162,
   "id": "1be6cb99",
   "metadata": {},
   "outputs": [
    {
     "name": "stdout",
     "output_type": "stream",
     "text": [
      "at least one test is true\n"
     ]
    }
   ],
   "source": [
    "if (1 < 0) or (1 >= 0):\n",
    "    print('at least one test is true')"
   ]
  },
  {
   "cell_type": "markdown",
   "id": "297c4a73",
   "metadata": {},
   "source": [
    "# CHECKING OUR DATA"
   ]
  },
  {
   "cell_type": "code",
   "execution_count": 171,
   "id": "83bb4127",
   "metadata": {},
   "outputs": [
    {
     "name": "stdout",
     "output_type": "stream",
     "text": [
      "Suspicious looking maxima!\n"
     ]
    }
   ],
   "source": [
    "data = numpy.loadtxt(fname='/Users/ananyasmaranikadivendi/Downloads/data/inflammation-01.csv', delimiter=',')\n",
    "\n",
    "max_inflammation_0 = numpy.amax(data, axis=0)[0]\n",
    "max_inflammation_20 = numpy.amax(data, axis=0)[20]\n",
    "\n",
    "if max_inflammation_0 == 0 and max_inflammation_20 == 20:\n",
    "    print('Suspicious looking maxima!')\n",
    "elif numpy.sum(numpy.amin(data, axis=0)) == 0:\n",
    "    print('Minima add up to zero!')\n",
    "else:\n",
    "    print('Seems OK!')"
   ]
  },
  {
   "cell_type": "code",
   "execution_count": 172,
   "id": "c9b58907",
   "metadata": {},
   "outputs": [
    {
     "name": "stdout",
     "output_type": "stream",
     "text": [
      "Minima add up to zero!\n"
     ]
    }
   ],
   "source": [
    "data = numpy.loadtxt(fname='/Users/ananyasmaranikadivendi/Downloads/data/inflammation-03.csv', delimiter=',')\n",
    "\n",
    "max_inflammation_0 = numpy.amax(data, axis=0)[0]\n",
    "max_inflammation_20 = numpy.amax(data, axis=0)[20]\n",
    "\n",
    "if max_inflammation_0 == 0 and max_inflammation_20 == 20:\n",
    "    print('Suspicious looking maxima!')\n",
    "elif numpy.sum(numpy.amin(data, axis=0)) == 0:\n",
    "    print('Minima add up to zero!')\n",
    "else:\n",
    "    print('Seems OK!')"
   ]
  },
  {
   "cell_type": "markdown",
   "id": "0a48d876",
   "metadata": {},
   "source": [
    "# HOW MANY PATHS?"
   ]
  },
  {
   "cell_type": "code",
   "execution_count": 173,
   "id": "aa8300bd",
   "metadata": {},
   "outputs": [
    {
     "name": "stdout",
     "output_type": "stream",
     "text": [
      "C\n"
     ]
    }
   ],
   "source": [
    "if 4 > 5:\n",
    "    print('A')\n",
    "elif 4 == 5:\n",
    "    print('B')\n",
    "elif 4 < 5:\n",
    "    print('C')"
   ]
  },
  {
   "cell_type": "markdown",
   "id": "d486b1c6",
   "metadata": {},
   "source": [
    "# WHAT IS TRUTH?"
   ]
  },
  {
   "cell_type": "code",
   "execution_count": 174,
   "id": "b2240e1f",
   "metadata": {},
   "outputs": [
    {
     "name": "stdout",
     "output_type": "stream",
     "text": [
      "word is true\n",
      "non-empty list is true\n",
      "one is true\n"
     ]
    }
   ],
   "source": [
    "if '':\n",
    "    print('empty string is true')\n",
    "if 'word':\n",
    "    print('word is true')\n",
    "if []:\n",
    "    print('empty list is true')\n",
    "if [1, 2, 3]:\n",
    "    print('non-empty list is true')\n",
    "if 0:\n",
    "    print('zero is true')\n",
    "if 1:\n",
    "    print('one is true')"
   ]
  },
  {
   "cell_type": "code",
   "execution_count": 175,
   "id": "22b3fbfa",
   "metadata": {},
   "outputs": [
    {
     "name": "stdout",
     "output_type": "stream",
     "text": [
      "empty string is not true\n",
      "not not True is true\n"
     ]
    }
   ],
   "source": [
    "if not '':\n",
    "    print('empty string is not true')\n",
    "if not 'word':\n",
    "    print('word is not true')\n",
    "if not not True:\n",
    "    print('not not True is true')"
   ]
  },
  {
   "cell_type": "code",
   "execution_count": 176,
   "id": "10c22ca4",
   "metadata": {},
   "outputs": [
    {
     "name": "stdout",
     "output_type": "stream",
     "text": [
      "12\n"
     ]
    }
   ],
   "source": [
    "print(abs(-12))"
   ]
  },
  {
   "cell_type": "code",
   "execution_count": 177,
   "id": "9a48f0c2",
   "metadata": {},
   "outputs": [
    {
     "name": "stdout",
     "output_type": "stream",
     "text": [
      "True\n"
     ]
    }
   ],
   "source": [
    "# Solution 1\n",
    "a = 5\n",
    "b = 5.1\n",
    "\n",
    "if abs(a - b) <= 0.1 * abs(b):\n",
    "    print('True')\n",
    "else:\n",
    "    print('False')"
   ]
  },
  {
   "cell_type": "code",
   "execution_count": 180,
   "id": "9555bdeb",
   "metadata": {},
   "outputs": [
    {
     "name": "stdout",
     "output_type": "stream",
     "text": [
      "True\n"
     ]
    }
   ],
   "source": [
    "# Solution 2\n",
    "print(abs(a - b) <= 0.1 * abs(b))"
   ]
  },
  {
   "cell_type": "markdown",
   "id": "39cd4453",
   "metadata": {},
   "source": [
    "# IN-PLACE OPERATORS"
   ]
  },
  {
   "cell_type": "code",
   "execution_count": 181,
   "id": "5cafb9b8",
   "metadata": {},
   "outputs": [
    {
     "name": "stdout",
     "output_type": "stream",
     "text": [
      "6\n"
     ]
    }
   ],
   "source": [
    "x = 1  # original value\n",
    "x += 1 # add one to x, assigning result back to x\n",
    "x *= 3 # multiply x by 3\n",
    "print(x)"
   ]
  },
  {
   "cell_type": "code",
   "execution_count": 182,
   "id": "4a927ab9",
   "metadata": {},
   "outputs": [
    {
     "name": "stdout",
     "output_type": "stream",
     "text": [
      "21 -14\n"
     ]
    }
   ],
   "source": [
    "positive_sum = 0\n",
    "negative_sum = 0\n",
    "test_list = [3, 4, 6, 1, -1, -5, 0, 7, -8]\n",
    "for num in test_list:\n",
    "    if num > 0:\n",
    "        positive_sum += num\n",
    "    elif num == 0:\n",
    "        pass\n",
    "    else:\n",
    "        negative_sum += num\n",
    "print(positive_sum, negative_sum)"
   ]
  },
  {
   "cell_type": "markdown",
   "id": "c4a0833c",
   "metadata": {},
   "source": [
    "# SORTING A LIST INTO BUCKETS"
   ]
  },
  {
   "cell_type": "code",
   "execution_count": 183,
   "id": "f5272336",
   "metadata": {},
   "outputs": [
    {
     "data": {
      "text/plain": [
       "True"
      ]
     },
     "execution_count": 183,
     "metadata": {},
     "output_type": "execute_result"
    }
   ],
   "source": [
    "'String'.startswith('Str')"
   ]
  },
  {
   "cell_type": "code",
   "execution_count": 184,
   "id": "348a8a48",
   "metadata": {},
   "outputs": [
    {
     "data": {
      "text/plain": [
       "False"
      ]
     },
     "execution_count": 184,
     "metadata": {},
     "output_type": "execute_result"
    }
   ],
   "source": [
    "'String'.startswith('str')"
   ]
  },
  {
   "cell_type": "code",
   "execution_count": 185,
   "id": "04c34e3b",
   "metadata": {},
   "outputs": [],
   "source": [
    "filenames = ['/Users/ananyasmaranikadivendi/Downloads/data/inflammation-01.csv',\n",
    "         'myscript.py',\n",
    "         '/Users/ananyasmaranikadivendi/Downloads/data/inflammation-02.csv',\n",
    "         '/Users/ananyasmaranikadivendi/Downloads/data/small-01.csv',\n",
    "         '/Users/ananyasmaranikadivendi/Downloads/data/small-02.csv']\n",
    "large_files = []\n",
    "small_files = []\n",
    "other_files = []"
   ]
  },
  {
   "cell_type": "code",
   "execution_count": 186,
   "id": "e1c6c260",
   "metadata": {},
   "outputs": [
    {
     "name": "stdout",
     "output_type": "stream",
     "text": [
      "large_files: []\n",
      "small_files: []\n",
      "other_files: ['/Users/ananyasmaranikadivendi/Downloads/data/inflammation-01.csv', 'myscript.py', '/Users/ananyasmaranikadivendi/Downloads/data/inflammation-02.csv', '/Users/ananyasmaranikadivendi/Downloads/data/small-01.csv', '/Users/ananyasmaranikadivendi/Downloads/data/small-02.csv']\n"
     ]
    }
   ],
   "source": [
    "for filename in filenames:\n",
    "    if filename.startswith('inflammation-'):\n",
    "        large_files.append(filename)\n",
    "    elif filename.startswith('small-'):\n",
    "        small_files.append(filename)\n",
    "    else:\n",
    "        other_files.append(filename)\n",
    "\n",
    "print('large_files:', large_files)\n",
    "print('small_files:', small_files)\n",
    "print('other_files:', other_files)"
   ]
  },
  {
   "cell_type": "markdown",
   "id": "b38a35a5",
   "metadata": {},
   "source": [
    "# COUNTING VOWELS"
   ]
  },
  {
   "cell_type": "code",
   "execution_count": 187,
   "id": "c6dd0219",
   "metadata": {},
   "outputs": [
    {
     "name": "stdout",
     "output_type": "stream",
     "text": [
      "The number of vowels in this string is 6\n"
     ]
    }
   ],
   "source": [
    "vowels = 'aeiouAEIOU'\n",
    "sentence = 'Mary had a little lamb.'\n",
    "count = 0\n",
    "for char in sentence:\n",
    "    if char in vowels:\n",
    "        count += 1\n",
    "\n",
    "print('The number of vowels in this string is ' + str(count))"
   ]
  },
  {
   "cell_type": "markdown",
   "id": "7bd082d2",
   "metadata": {},
   "source": [
    "# CREATING FUNCTIONS"
   ]
  },
  {
   "cell_type": "code",
   "execution_count": 188,
   "id": "56a1afaf",
   "metadata": {},
   "outputs": [],
   "source": [
    "fahrenheit_val = 99\n",
    "celsius_val = ((fahrenheit_val - 32) * (5/9))"
   ]
  },
  {
   "cell_type": "code",
   "execution_count": 189,
   "id": "912b9c68",
   "metadata": {},
   "outputs": [],
   "source": [
    "fahrenheit_val = 99\n",
    "celsius_val = ((fahrenheit_val - 32) * (5/9))\n",
    "\n",
    "fahrenheit_val2 = 43\n",
    "celsius_val2 = ((fahrenheit_val2 - 32) * (5/9))"
   ]
  },
  {
   "cell_type": "code",
   "execution_count": 190,
   "id": "d8d3cbb2",
   "metadata": {},
   "outputs": [],
   "source": [
    "def explicit_fahr_to_celsius(temp):\n",
    "    # Assign the converted value to a variable\n",
    "    converted = ((temp - 32) * (5/9))\n",
    "    # Return the value of the new variable\n",
    "    return converted\n",
    "    \n",
    "def fahr_to_celsius(temp):\n",
    "    # Return converted value more efficiently using the return\n",
    "    # function without creating a new variable. This code does\n",
    "    # the same thing as the previous function but it is more explicit\n",
    "    # in explaining how the return command works.\n",
    "    return ((temp - 32) * (5/9))"
   ]
  },
  {
   "cell_type": "code",
   "execution_count": 191,
   "id": "c49be332",
   "metadata": {},
   "outputs": [
    {
     "data": {
      "text/plain": [
       "0.0"
      ]
     },
     "execution_count": 191,
     "metadata": {},
     "output_type": "execute_result"
    }
   ],
   "source": [
    "fahr_to_celsius(32)"
   ]
  },
  {
   "cell_type": "code",
   "execution_count": 192,
   "id": "1ebacc82",
   "metadata": {},
   "outputs": [
    {
     "name": "stdout",
     "output_type": "stream",
     "text": [
      "freezing point of water: 0.0 C\n",
      "boiling point of water: 100.0 C\n"
     ]
    }
   ],
   "source": [
    "print('freezing point of water:', fahr_to_celsius(32), 'C')\n",
    "print('boiling point of water:', fahr_to_celsius(212), 'C')"
   ]
  },
  {
   "cell_type": "markdown",
   "id": "1cb4aa77",
   "metadata": {},
   "source": [
    "# COMPOSING FUNCTIONS"
   ]
  },
  {
   "cell_type": "code",
   "execution_count": 193,
   "id": "b001259f",
   "metadata": {},
   "outputs": [
    {
     "name": "stdout",
     "output_type": "stream",
     "text": [
      "freezing point of water in Kelvin: 273.15\n"
     ]
    }
   ],
   "source": [
    "def celsius_to_kelvin(temp_c):\n",
    "    return temp_c + 273.15\n",
    "\n",
    "print('freezing point of water in Kelvin:', celsius_to_kelvin(0.))"
   ]
  },
  {
   "cell_type": "code",
   "execution_count": 194,
   "id": "0b9dbd7a",
   "metadata": {},
   "outputs": [
    {
     "name": "stdout",
     "output_type": "stream",
     "text": [
      "boiling point of water in Kelvin: 373.15\n"
     ]
    }
   ],
   "source": [
    "def fahr_to_kelvin(temp_f):\n",
    "    temp_c = fahr_to_celsius(temp_f)\n",
    "    temp_k = celsius_to_kelvin(temp_c)\n",
    "    return temp_k\n",
    "\n",
    "print('boiling point of water in Kelvin:', fahr_to_kelvin(212.0))"
   ]
  },
  {
   "cell_type": "markdown",
   "id": "345f6886",
   "metadata": {},
   "source": [
    "# VARIABLE SCOPE"
   ]
  },
  {
   "cell_type": "code",
   "execution_count": 196,
   "id": "3d3e0c72",
   "metadata": {},
   "outputs": [
    {
     "name": "stdout",
     "output_type": "stream",
     "text": [
      "temperature in Kelvin was: 373.15\n"
     ]
    }
   ],
   "source": [
    "temp_kelvin = fahr_to_kelvin(212.0)\n",
    "print('temperature in Kelvin was:', temp_kelvin)"
   ]
  },
  {
   "cell_type": "code",
   "execution_count": 197,
   "id": "65575a0e",
   "metadata": {},
   "outputs": [
    {
     "name": "stdout",
     "output_type": "stream",
     "text": [
      "temperature in Fahrenheit was: 212.0\n",
      "temperature in Kelvin was: 373.15\n"
     ]
    }
   ],
   "source": [
    "def print_temperatures():\n",
    "    print('temperature in Fahrenheit was:', temp_fahr)\n",
    "    print('temperature in Kelvin was:', temp_kelvin)\n",
    "\n",
    "temp_fahr = 212.0\n",
    "temp_kelvin = fahr_to_kelvin(temp_fahr)\n",
    "\n",
    "print_temperatures()"
   ]
  },
  {
   "cell_type": "markdown",
   "id": "43e879ed",
   "metadata": {},
   "source": [
    "# TIDYING UP"
   ]
  },
  {
   "cell_type": "code",
   "execution_count": 198,
   "id": "154376ae",
   "metadata": {},
   "outputs": [],
   "source": [
    "def visualize(filename):\n",
    "\n",
    "    data = numpy.loadtxt(fname=filename, delimiter=',')\n",
    "\n",
    "    fig = matplotlib.pyplot.figure(figsize=(10.0, 3.0))\n",
    "\n",
    "    axes1 = fig.add_subplot(1, 3, 1)\n",
    "    axes2 = fig.add_subplot(1, 3, 2)\n",
    "    axes3 = fig.add_subplot(1, 3, 3)\n",
    "\n",
    "    axes1.set_ylabel('average')\n",
    "    axes1.plot(numpy.mean(data, axis=0))\n",
    "\n",
    "    axes2.set_ylabel('max')\n",
    "    axes2.plot(numpy.amax(data, axis=0))\n",
    "\n",
    "    axes3.set_ylabel('min')\n",
    "    axes3.plot(numpy.amin(data, axis=0))\n",
    "\n",
    "    fig.tight_layout()\n",
    "    matplotlib.pyplot.show()"
   ]
  },
  {
   "cell_type": "code",
   "execution_count": 199,
   "id": "bf1ff76e",
   "metadata": {},
   "outputs": [],
   "source": [
    "def detect_problems(filename):\n",
    "\n",
    "    data = numpy.loadtxt(fname=filename, delimiter=',')\n",
    "\n",
    "    if numpy.amax(data, axis=0)[0] == 0 and numpy.amax(data, axis=0)[20] == 20:\n",
    "        print('Suspicious looking maxima!')\n",
    "    elif numpy.sum(numpy.amin(data, axis=0)) == 0:\n",
    "        print('Minima add up to zero!')\n",
    "    else:\n",
    "        print('Seems OK!')"
   ]
  },
  {
   "cell_type": "code",
   "execution_count": 200,
   "id": "51263203",
   "metadata": {},
   "outputs": [
    {
     "name": "stdout",
     "output_type": "stream",
     "text": [
      "/Users/ananyasmaranikadivendi/Downloads/data/inflammation-01.csv\n"
     ]
    },
    {
     "data": {
      "image/png": "[encoded data removed]",
      "text/plain": [
       "<Figure size 1000x300 with 3 Axes>"
      ]
     },
     "metadata": {},
     "output_type": "display_data"
    },
    {
     "name": "stdout",
     "output_type": "stream",
     "text": [
      "Suspicious looking maxima!\n",
      "/Users/ananyasmaranikadivendi/Downloads/data/inflammation-02.csv\n"
     ]
    },
    {
     "data": {
      "image/png": "[encoded data removed]",
      "text/plain": [
       "<Figure size 1000x300 with 3 Axes>"
      ]
     },
     "metadata": {},
     "output_type": "display_data"
    },
    {
     "name": "stdout",
     "output_type": "stream",
     "text": [
      "Suspicious looking maxima!\n",
      "/Users/ananyasmaranikadivendi/Downloads/data/inflammation-03.csv\n"
     ]
    },
    {
     "data": {
      "image/png": "[encoded data removed]",
      "text/plain": [
       "<Figure size 1000x300 with 3 Axes>"
      ]
     },
     "metadata": {},
     "output_type": "display_data"
    },
    {
     "name": "stdout",
     "output_type": "stream",
     "text": [
      "Minima add up to zero!\n"
     ]
    }
   ],
   "source": [
    "filenames = sorted(glob.glob('/Users/ananyasmaranikadivendi/Downloads/data/inflammation*.csv'))\n",
    "\n",
    "for filename in filenames[:3]:\n",
    "    print(filename)\n",
    "    visualize(filename)\n",
    "    detect_problems(filename)"
   ]
  },
  {
   "cell_type": "markdown",
   "id": "e5dba067",
   "metadata": {},
   "source": [
    "# TESTING AND DOCUMENTING"
   ]
  },
  {
   "cell_type": "code",
   "execution_count": 201,
   "id": "ccfecf41",
   "metadata": {},
   "outputs": [],
   "source": [
    "def offset_mean(data, target_mean_value):\n",
    "    return (data - numpy.mean(data)) + target_mean_value"
   ]
  },
  {
   "cell_type": "code",
   "execution_count": 202,
   "id": "48b3babd",
   "metadata": {},
   "outputs": [
    {
     "name": "stdout",
     "output_type": "stream",
     "text": [
      "[[3. 3.]\n",
      " [3. 3.]]\n"
     ]
    }
   ],
   "source": [
    "z = numpy.zeros((2, 2))\n",
    "print(offset_mean(z, 3))"
   ]
  },
  {
   "cell_type": "code",
   "execution_count": 203,
   "id": "c73a75b1",
   "metadata": {},
   "outputs": [
    {
     "name": "stdout",
     "output_type": "stream",
     "text": [
      "[[-6.14875 -6.14875 -5.14875 ... -3.14875 -6.14875 -6.14875]\n",
      " [-6.14875 -5.14875 -4.14875 ... -5.14875 -6.14875 -5.14875]\n",
      " [-6.14875 -5.14875 -5.14875 ... -4.14875 -5.14875 -5.14875]\n",
      " ...\n",
      " [-6.14875 -5.14875 -5.14875 ... -5.14875 -5.14875 -5.14875]\n",
      " [-6.14875 -6.14875 -6.14875 ... -6.14875 -4.14875 -6.14875]\n",
      " [-6.14875 -6.14875 -5.14875 ... -5.14875 -5.14875 -6.14875]]\n"
     ]
    }
   ],
   "source": [
    "data = numpy.loadtxt(fname='/Users/ananyasmaranikadivendi/Downloads/data/inflammation-01.csv', delimiter=',')\n",
    "print(offset_mean(data, 0))"
   ]
  },
  {
   "cell_type": "code",
   "execution_count": 204,
   "id": "4b66039f",
   "metadata": {},
   "outputs": [
    {
     "name": "stdout",
     "output_type": "stream",
     "text": [
      "original min, mean, and max are: 0.0 6.14875 20.0\n",
      "min, mean, and max of offset data are: -6.14875 2.842170943040401e-16 13.85125\n"
     ]
    }
   ],
   "source": [
    "print('original min, mean, and max are:', numpy.amin(data), numpy.mean(data), numpy.amax(data))\n",
    "offset_data = offset_mean(data, 0)\n",
    "print('min, mean, and max of offset data are:',\n",
    "      numpy.amin(offset_data),\n",
    "      numpy.mean(offset_data),\n",
    "      numpy.amax(offset_data))"
   ]
  },
  {
   "cell_type": "code",
   "execution_count": 205,
   "id": "14333540",
   "metadata": {},
   "outputs": [
    {
     "name": "stdout",
     "output_type": "stream",
     "text": [
      "std dev before and after: 4.613833197118566 4.613833197118566\n"
     ]
    }
   ],
   "source": [
    "print('std dev before and after:', numpy.std(data), numpy.std(offset_data))"
   ]
  },
  {
   "cell_type": "code",
   "execution_count": 206,
   "id": "2ea8b325",
   "metadata": {},
   "outputs": [
    {
     "name": "stdout",
     "output_type": "stream",
     "text": [
      "difference in standard deviations before and after: 0.0\n"
     ]
    }
   ],
   "source": [
    "print('difference in standard deviations before and after:',\n",
    "      numpy.std(data) - numpy.std(offset_data))"
   ]
  },
  {
   "cell_type": "code",
   "execution_count": 207,
   "id": "11377057",
   "metadata": {},
   "outputs": [],
   "source": [
    "# offset_mean(data, target_mean_value):\n",
    "# return a new array containing the original data with its mean offset to match the desired value.\n",
    "def offset_mean(data, target_mean_value):\n",
    "    return (data - numpy.mean(data)) + target_mean_value"
   ]
  },
  {
   "cell_type": "code",
   "execution_count": 208,
   "id": "bdfe545d",
   "metadata": {},
   "outputs": [],
   "source": [
    "def offset_mean(data, target_mean_value):\n",
    "    \"\"\"Return a new array containing the original data\n",
    "       with its mean offset to match the desired value.\"\"\"\n",
    "    return (data - numpy.mean(data)) + target_mean_value"
   ]
  },
  {
   "cell_type": "code",
   "execution_count": 209,
   "id": "88eed452",
   "metadata": {},
   "outputs": [
    {
     "name": "stdout",
     "output_type": "stream",
     "text": [
      "Help on function offset_mean in module __main__:\n",
      "\n",
      "offset_mean(data, target_mean_value)\n",
      "    Return a new array containing the original data\n",
      "    with its mean offset to match the desired value.\n",
      "\n"
     ]
    }
   ],
   "source": [
    "help(offset_mean)"
   ]
  },
  {
   "cell_type": "code",
   "execution_count": 210,
   "id": "82885479",
   "metadata": {},
   "outputs": [
    {
     "name": "stdout",
     "output_type": "stream",
     "text": [
      "Help on function offset_mean in module __main__:\n",
      "\n",
      "offset_mean(data, target_mean_value)\n",
      "    Return a new array containing the original data\n",
      "       with its mean offset to match the desired value.\n",
      "    \n",
      "    Examples\n",
      "    --------\n",
      "    >>> offset_mean([1, 2, 3], 0)\n",
      "    array([-1.,  0.,  1.])\n",
      "\n"
     ]
    }
   ],
   "source": [
    "def offset_mean(data, target_mean_value):\n",
    "    \"\"\"Return a new array containing the original data\n",
    "       with its mean offset to match the desired value.\n",
    "\n",
    "    Examples\n",
    "    --------\n",
    "    >>> offset_mean([1, 2, 3], 0)\n",
    "    array([-1.,  0.,  1.])\n",
    "    \"\"\"\n",
    "    return (data - numpy.mean(data)) + target_mean_value\n",
    "\n",
    "help(offset_mean)"
   ]
  },
  {
   "cell_type": "markdown",
   "id": "94a0dc53",
   "metadata": {},
   "source": [
    "# DEFINING DEFAULTS"
   ]
  },
  {
   "cell_type": "code",
   "execution_count": 211,
   "id": "1303e3c9",
   "metadata": {},
   "outputs": [
    {
     "data": {
      "text/plain": [
       "array([[0., 0., 1., ..., 3., 0., 0.],\n",
       "       [0., 1., 2., ..., 1., 0., 1.],\n",
       "       [0., 1., 1., ..., 2., 1., 1.],\n",
       "       ...,\n",
       "       [0., 1., 1., ..., 1., 1., 1.],\n",
       "       [0., 0., 0., ..., 0., 2., 0.],\n",
       "       [0., 0., 1., ..., 1., 1., 0.]])"
      ]
     },
     "execution_count": 211,
     "metadata": {},
     "output_type": "execute_result"
    }
   ],
   "source": [
    "numpy.loadtxt('/Users/ananyasmaranikadivendi/Downloads/data/inflammation-01.csv', delimiter=',')"
   ]
  },
  {
   "cell_type": "code",
   "execution_count": 212,
   "id": "9e4db9dd",
   "metadata": {},
   "outputs": [],
   "source": [
    "def offset_mean(data, target_mean_value=0.0):\n",
    "    \"\"\"Return a new array containing the original data\n",
    "       with its mean offset to match the desired value, (0 by default).\n",
    "\n",
    "    Examples\n",
    "    --------\n",
    "    >>> offset_mean([1, 2, 3])\n",
    "    array([-1.,  0.,  1.])\n",
    "    \"\"\"\n",
    "    return (data - numpy.mean(data)) + target_mean_value"
   ]
  },
  {
   "cell_type": "code",
   "execution_count": 213,
   "id": "d6351cc4",
   "metadata": {},
   "outputs": [
    {
     "name": "stdout",
     "output_type": "stream",
     "text": [
      "[[3. 3.]\n",
      " [3. 3.]]\n"
     ]
    }
   ],
   "source": [
    "test_data = numpy.zeros((2, 2))\n",
    "print(offset_mean(test_data, 3))"
   ]
  },
  {
   "cell_type": "code",
   "execution_count": 215,
   "id": "55f200b0",
   "metadata": {},
   "outputs": [
    {
     "name": "stdout",
     "output_type": "stream",
     "text": [
      "data before mean offset:\n",
      "[[5. 5.]\n",
      " [5. 5.]]\n",
      "offset data:\n",
      "[[0. 0.]\n",
      " [0. 0.]]\n"
     ]
    }
   ],
   "source": [
    "more_data = 5 + numpy.zeros((2, 2))\n",
    "print('data before mean offset:')\n",
    "print(more_data)\n",
    "print('offset data:')\n",
    "print(offset_mean(more_data))"
   ]
  },
  {
   "cell_type": "code",
   "execution_count": 216,
   "id": "9690e91c",
   "metadata": {},
   "outputs": [
    {
     "name": "stdout",
     "output_type": "stream",
     "text": [
      "no parameters:\n",
      "a: 1 b: 2 c: 3\n",
      "one parameter:\n",
      "a: 55 b: 2 c: 3\n",
      "two parameters:\n",
      "a: 55 b: 66 c: 3\n"
     ]
    }
   ],
   "source": [
    "def display(a=1, b=2, c=3):\n",
    "    print('a:', a, 'b:', b, 'c:', c)\n",
    "\n",
    "print('no parameters:')\n",
    "display()\n",
    "print('one parameter:')\n",
    "display(55)\n",
    "print('two parameters:')\n",
    "display(55, 66)"
   ]
  },
  {
   "cell_type": "code",
   "execution_count": 217,
   "id": "33fbabef",
   "metadata": {},
   "outputs": [
    {
     "name": "stdout",
     "output_type": "stream",
     "text": [
      "only setting the value of c\n",
      "a: 1 b: 2 c: 77\n"
     ]
    }
   ],
   "source": [
    "print('only setting the value of c')\n",
    "display(c=77)"
   ]
  },
  {
   "cell_type": "code",
   "execution_count": 218,
   "id": "fa57db07",
   "metadata": {},
   "outputs": [
    {
     "name": "stdout",
     "output_type": "stream",
     "text": [
      "Help on function loadtxt in module numpy:\n",
      "\n",
      "loadtxt(fname, dtype=<class 'float'>, comments='#', delimiter=None, converters=None, skiprows=0, usecols=None, unpack=False, ndmin=0, encoding='bytes', max_rows=None, *, quotechar=None, like=None)\n",
      "    Load data from a text file.\n",
      "    \n",
      "    Parameters\n",
      "    ----------\n",
      "    fname : file, str, pathlib.Path, list of str, generator\n",
      "        File, filename, list, or generator to read.  If the filename\n",
      "        extension is ``.gz`` or ``.bz2``, the file is first decompressed. Note\n",
      "        that generators must return bytes or strings. The strings\n",
      "        in a list or produced by a generator are treated as lines.\n",
      "    dtype : data-type, optional\n",
      "        Data-type of the resulting array; default: float.  If this is a\n",
      "        structured data-type, the resulting array will be 1-dimensional, and\n",
      "        each row will be interpreted as an element of the array.  In this\n",
      "        case, the number of columns used must match the number of fields in\n",
      "        the data-type.\n",
      "    comments : str or sequence of str or None, optional\n",
      "        The characters or list of characters used to indicate the start of a\n",
      "        comment. None implies no comments. For backwards compatibility, byte\n",
      "        strings will be decoded as 'latin1'. The default is '#'.\n",
      "    delimiter : str, optional\n",
      "        The character used to separate the values. For backwards compatibility,\n",
      "        byte strings will be decoded as 'latin1'. The default is whitespace.\n",
      "    \n",
      "        .. versionchanged:: 1.23.0\n",
      "           Only single character delimiters are supported. Newline characters\n",
      "           cannot be used as the delimiter.\n",
      "    \n",
      "    converters : dict or callable, optional\n",
      "        Converter functions to customize value parsing. If `converters` is\n",
      "        callable, the function is applied to all columns, else it must be a\n",
      "        dict that maps column number to a parser function.\n",
      "        See examples for further details.\n",
      "        Default: None.\n",
      "    \n",
      "        .. versionchanged:: 1.23.0\n",
      "           The ability to pass a single callable to be applied to all columns\n",
      "           was added.\n",
      "    \n",
      "    skiprows : int, optional\n",
      "        Skip the first `skiprows` lines, including comments; default: 0.\n",
      "    usecols : int or sequence, optional\n",
      "        Which columns to read, with 0 being the first. For example,\n",
      "        ``usecols = (1,4,5)`` will extract the 2nd, 5th and 6th columns.\n",
      "        The default, None, results in all columns being read.\n",
      "    \n",
      "        .. versionchanged:: 1.11.0\n",
      "            When a single column has to be read it is possible to use\n",
      "            an integer instead of a tuple. E.g ``usecols = 3`` reads the\n",
      "            fourth column the same way as ``usecols = (3,)`` would.\n",
      "    unpack : bool, optional\n",
      "        If True, the returned array is transposed, so that arguments may be\n",
      "        unpacked using ``x, y, z = loadtxt(...)``.  When used with a\n",
      "        structured data-type, arrays are returned for each field.\n",
      "        Default is False.\n",
      "    ndmin : int, optional\n",
      "        The returned array will have at least `ndmin` dimensions.\n",
      "        Otherwise mono-dimensional axes will be squeezed.\n",
      "        Legal values: 0 (default), 1 or 2.\n",
      "    \n",
      "        .. versionadded:: 1.6.0\n",
      "    encoding : str, optional\n",
      "        Encoding used to decode the inputfile. Does not apply to input streams.\n",
      "        The special value 'bytes' enables backward compatibility workarounds\n",
      "        that ensures you receive byte arrays as results if possible and passes\n",
      "        'latin1' encoded strings to converters. Override this value to receive\n",
      "        unicode arrays and pass strings as input to converters.  If set to None\n",
      "        the system default is used. The default value is 'bytes'.\n",
      "    \n",
      "        .. versionadded:: 1.14.0\n",
      "    max_rows : int, optional\n",
      "        Read `max_rows` rows of content after `skiprows` lines. The default is\n",
      "        to read all the rows. Note that empty rows containing no data such as\n",
      "        empty lines and comment lines are not counted towards `max_rows`,\n",
      "        while such lines are counted in `skiprows`.\n",
      "    \n",
      "        .. versionadded:: 1.16.0\n",
      "        \n",
      "        .. versionchanged:: 1.23.0\n",
      "            Lines containing no data, including comment lines (e.g., lines \n",
      "            starting with '#' or as specified via `comments`) are not counted \n",
      "            towards `max_rows`.\n",
      "    quotechar : unicode character or None, optional\n",
      "        The character used to denote the start and end of a quoted item.\n",
      "        Occurrences of the delimiter or comment characters are ignored within\n",
      "        a quoted item. The default value is ``quotechar=None``, which means\n",
      "        quoting support is disabled.\n",
      "    \n",
      "        If two consecutive instances of `quotechar` are found within a quoted\n",
      "        field, the first is treated as an escape character. See examples.\n",
      "    \n",
      "        .. versionadded:: 1.23.0\n",
      "    like : array_like, optional\n",
      "        Reference object to allow the creation of arrays which are not\n",
      "        NumPy arrays. If an array-like passed in as ``like`` supports\n",
      "        the ``__array_function__`` protocol, the result will be defined\n",
      "        by it. In this case, it ensures the creation of an array object\n",
      "        compatible with that passed in via this argument.\n",
      "    \n",
      "        .. versionadded:: 1.20.0\n",
      "    \n",
      "    Returns\n",
      "    -------\n",
      "    out : ndarray\n",
      "        Data read from the text file.\n",
      "    \n",
      "    See Also\n",
      "    --------\n",
      "    load, fromstring, fromregex\n",
      "    genfromtxt : Load data with missing values handled as specified.\n",
      "    scipy.io.loadmat : reads MATLAB data files\n",
      "    \n",
      "    Notes\n",
      "    -----\n",
      "    This function aims to be a fast reader for simply formatted files.  The\n",
      "    `genfromtxt` function provides more sophisticated handling of, e.g.,\n",
      "    lines with missing values.\n",
      "    \n",
      "    Each row in the input text file must have the same number of values to be\n",
      "    able to read all values. If all rows do not have same number of values, a\n",
      "    subset of up to n columns (where n is the least number of values present\n",
      "    in all rows) can be read by specifying the columns via `usecols`.\n",
      "    \n",
      "    .. versionadded:: 1.10.0\n",
      "    \n",
      "    The strings produced by the Python float.hex method can be used as\n",
      "    input for floats.\n",
      "    \n",
      "    Examples\n",
      "    --------\n",
      "    >>> from io import StringIO   # StringIO behaves like a file object\n",
      "    >>> c = StringIO(\"0 1\\n2 3\")\n",
      "    >>> np.loadtxt(c)\n",
      "    array([[0., 1.],\n",
      "           [2., 3.]])\n",
      "    \n",
      "    >>> d = StringIO(\"M 21 72\\nF 35 58\")\n",
      "    >>> np.loadtxt(d, dtype={'names': ('gender', 'age', 'weight'),\n",
      "    ...                      'formats': ('S1', 'i4', 'f4')})\n",
      "    array([(b'M', 21, 72.), (b'F', 35, 58.)],\n",
      "          dtype=[('gender', 'S1'), ('age', '<i4'), ('weight', '<f4')])\n",
      "    \n",
      "    >>> c = StringIO(\"1,0,2\\n3,0,4\")\n",
      "    >>> x, y = np.loadtxt(c, delimiter=',', usecols=(0, 2), unpack=True)\n",
      "    >>> x\n",
      "    array([1., 3.])\n",
      "    >>> y\n",
      "    array([2., 4.])\n",
      "    \n",
      "    The `converters` argument is used to specify functions to preprocess the\n",
      "    text prior to parsing. `converters` can be a dictionary that maps\n",
      "    preprocessing functions to each column:\n",
      "    \n",
      "    >>> s = StringIO(\"1.618, 2.296\\n3.141, 4.669\\n\")\n",
      "    >>> conv = {\n",
      "    ...     0: lambda x: np.floor(float(x)),  # conversion fn for column 0\n",
      "    ...     1: lambda x: np.ceil(float(x)),  # conversion fn for column 1\n",
      "    ... }\n",
      "    >>> np.loadtxt(s, delimiter=\",\", converters=conv)\n",
      "    array([[1., 3.],\n",
      "           [3., 5.]])\n",
      "    \n",
      "    `converters` can be a callable instead of a dictionary, in which case it\n",
      "    is applied to all columns:\n",
      "    \n",
      "    >>> s = StringIO(\"0xDE 0xAD\\n0xC0 0xDE\")\n",
      "    >>> import functools\n",
      "    >>> conv = functools.partial(int, base=16)\n",
      "    >>> np.loadtxt(s, converters=conv)\n",
      "    array([[222., 173.],\n",
      "           [192., 222.]])\n",
      "    \n",
      "    This example shows how `converters` can be used to convert a field\n",
      "    with a trailing minus sign into a negative number.\n",
      "    \n",
      "    >>> s = StringIO('10.01 31.25-\\n19.22 64.31\\n17.57- 63.94')\n",
      "    >>> def conv(fld):\n",
      "    ...     return -float(fld[:-1]) if fld.endswith(b'-') else float(fld)\n",
      "    ...\n",
      "    >>> np.loadtxt(s, converters=conv)\n",
      "    array([[ 10.01, -31.25],\n",
      "           [ 19.22,  64.31],\n",
      "           [-17.57,  63.94]])\n",
      "    \n",
      "    Using a callable as the converter can be particularly useful for handling\n",
      "    values with different formatting, e.g. floats with underscores:\n",
      "    \n",
      "    >>> s = StringIO(\"1 2.7 100_000\")\n",
      "    >>> np.loadtxt(s, converters=float)\n",
      "    array([1.e+00, 2.7e+00, 1.e+05])\n",
      "    \n",
      "    This idea can be extended to automatically handle values specified in\n",
      "    many different formats:\n",
      "    \n",
      "    >>> def conv(val):\n",
      "    ...     try:\n",
      "    ...         return float(val)\n",
      "    ...     except ValueError:\n",
      "    ...         return float.fromhex(val)\n",
      "    >>> s = StringIO(\"1, 2.5, 3_000, 0b4, 0x1.4000000000000p+2\")\n",
      "    >>> np.loadtxt(s, delimiter=\",\", converters=conv, encoding=None)\n",
      "    array([1.0e+00, 2.5e+00, 3.0e+03, 1.8e+02, 5.0e+00])\n",
      "    \n",
      "    Note that with the default ``encoding=\"bytes\"``, the inputs to the\n",
      "    converter function are latin-1 encoded byte strings. To deactivate the\n",
      "    implicit encoding prior to conversion, use ``encoding=None``\n",
      "    \n",
      "    >>> s = StringIO('10.01 31.25-\\n19.22 64.31\\n17.57- 63.94')\n",
      "    >>> conv = lambda x: -float(x[:-1]) if x.endswith('-') else float(x)\n",
      "    >>> np.loadtxt(s, converters=conv, encoding=None)\n",
      "    array([[ 10.01, -31.25],\n",
      "           [ 19.22,  64.31],\n",
      "           [-17.57,  63.94]])\n",
      "    \n",
      "    Support for quoted fields is enabled with the `quotechar` parameter.\n",
      "    Comment and delimiter characters are ignored when they appear within a\n",
      "    quoted item delineated by `quotechar`:\n",
      "    \n",
      "    >>> s = StringIO('\"alpha, #42\", 10.0\\n\"beta, #64\", 2.0\\n')\n",
      "    >>> dtype = np.dtype([(\"label\", \"U12\"), (\"value\", float)])\n",
      "    >>> np.loadtxt(s, dtype=dtype, delimiter=\",\", quotechar='\"')\n",
      "    array([('alpha, #42', 10.), ('beta, #64',  2.)],\n",
      "          dtype=[('label', '<U12'), ('value', '<f8')])\n",
      "    \n",
      "    Quoted fields can be separated by multiple whitespace characters:\n",
      "    \n",
      "    >>> s = StringIO('\"alpha, #42\"       10.0\\n\"beta, #64\" 2.0\\n')\n",
      "    >>> dtype = np.dtype([(\"label\", \"U12\"), (\"value\", float)])\n",
      "    >>> np.loadtxt(s, dtype=dtype, delimiter=None, quotechar='\"')\n",
      "    array([('alpha, #42', 10.), ('beta, #64',  2.)],\n",
      "          dtype=[('label', '<U12'), ('value', '<f8')])\n",
      "    \n",
      "    Two consecutive quote characters within a quoted field are treated as a\n",
      "    single escaped character:\n",
      "    \n",
      "    >>> s = StringIO('\"Hello, my name is \"\"Monty\"\"!\"')\n",
      "    >>> np.loadtxt(s, dtype=\"U\", delimiter=\",\", quotechar='\"')\n",
      "    array('Hello, my name is \"Monty\"!', dtype='<U26')\n",
      "    \n",
      "    Read subset of columns when all rows do not contain equal number of values:\n",
      "    \n",
      "    >>> d = StringIO(\"1 2\\n2 4\\n3 9 12\\n4 16 20\")\n",
      "    >>> np.loadtxt(d, usecols=(0, 1))\n",
      "    array([[ 1.,  2.],\n",
      "           [ 2.,  4.],\n",
      "           [ 3.,  9.],\n",
      "           [ 4., 16.]])\n",
      "\n"
     ]
    }
   ],
   "source": [
    "help(numpy.loadtxt)"
   ]
  },
  {
   "cell_type": "markdown",
   "id": "28111055",
   "metadata": {},
   "source": [
    "# READABLE FUNCTIONS"
   ]
  },
  {
   "cell_type": "code",
   "execution_count": 220,
   "id": "33883b29",
   "metadata": {},
   "outputs": [],
   "source": [
    "def s(p):\n",
    "    a = 0\n",
    "    for v in p:\n",
    "        a += v\n",
    "    m = a / len(p)\n",
    "    d = 0\n",
    "    for v in p:\n",
    "        d += (v - m) * (v - m)\n",
    "    return numpy.sqrt(d / (len(p) - 1))\n",
    "\n",
    "def std_dev(sample):\n",
    "    sample_sum = 0\n",
    "    for value in sample:\n",
    "        sample_sum += value\n",
    "\n",
    "    sample_mean = sample_sum / len(sample)\n",
    "\n",
    "    sum_squared_devs = 0\n",
    "    for value in sample:\n",
    "        sum_squared_devs += (value - sample_mean) * (value - sample_mean)\n",
    "\n",
    "    return numpy.sqrt(sum_squared_devs / (len(sample) - 1))"
   ]
  },
  {
   "cell_type": "markdown",
   "id": "821c79cd",
   "metadata": {},
   "source": [
    "# COMBINING STRINGS"
   ]
  },
  {
   "cell_type": "code",
   "execution_count": 222,
   "id": "593cb4bf",
   "metadata": {},
   "outputs": [
    {
     "name": "stdout",
     "output_type": "stream",
     "text": [
      "*name*\n"
     ]
    }
   ],
   "source": [
    "def fence(original, wrapper):\n",
    "    return wrapper + original + wrapper\n",
    "print(fence('name', '*'))"
   ]
  },
  {
   "cell_type": "markdown",
   "id": "74fe004c",
   "metadata": {},
   "source": [
    "# RETURN VERSUS PRINT"
   ]
  },
  {
   "cell_type": "code",
   "execution_count": 223,
   "id": "1430ef5b",
   "metadata": {},
   "outputs": [],
   "source": [
    "def add(a, b):\n",
    "    print(a + b)"
   ]
  },
  {
   "cell_type": "code",
   "execution_count": 224,
   "id": "34391f1b",
   "metadata": {},
   "outputs": [
    {
     "name": "stdout",
     "output_type": "stream",
     "text": [
      "10\n",
      "None\n"
     ]
    }
   ],
   "source": [
    "A = add(7, 3)\n",
    "print(A)"
   ]
  },
  {
   "cell_type": "markdown",
   "id": "c5951ce7",
   "metadata": {},
   "source": [
    "# SELECTING CHARACTERS FROM STRINGS"
   ]
  },
  {
   "cell_type": "code",
   "execution_count": 226,
   "id": "b4bbe798",
   "metadata": {},
   "outputs": [
    {
     "name": "stdout",
     "output_type": "stream",
     "text": [
      "hm\n"
     ]
    }
   ],
   "source": [
    "def outer(input_string):\n",
    "    return input_string[0] + input_string[-1]\n",
    "print(outer('helium'))"
   ]
  },
  {
   "cell_type": "markdown",
   "id": "1596ce60",
   "metadata": {},
   "source": [
    "# RESCALING AN ARRAY"
   ]
  },
  {
   "cell_type": "code",
   "execution_count": 227,
   "id": "307edd8b",
   "metadata": {},
   "outputs": [],
   "source": [
    "def rescale(input_array):\n",
    "    L = numpy.amin(input_array)\n",
    "    H = numpy.amax(input_array)\n",
    "    output_array = (input_array - L) / (H - L)\n",
    "    return output_array"
   ]
  },
  {
   "cell_type": "code",
   "execution_count": 228,
   "id": "1fbed5c4",
   "metadata": {},
   "outputs": [
    {
     "name": "stdout",
     "output_type": "stream",
     "text": [
      "Help on built-in function arange in module numpy:\n",
      "\n",
      "arange(...)\n",
      "    arange([start,] stop[, step,], dtype=None, *, like=None)\n",
      "    \n",
      "    Return evenly spaced values within a given interval.\n",
      "    \n",
      "    ``arange`` can be called with a varying number of positional arguments:\n",
      "    \n",
      "    * ``arange(stop)``: Values are generated within the half-open interval\n",
      "      ``[0, stop)`` (in other words, the interval including `start` but\n",
      "      excluding `stop`).\n",
      "    * ``arange(start, stop)``: Values are generated within the half-open\n",
      "      interval ``[start, stop)``.\n",
      "    * ``arange(start, stop, step)`` Values are generated within the half-open\n",
      "      interval ``[start, stop)``, with spacing between values given by\n",
      "      ``step``.\n",
      "    \n",
      "    For integer arguments the function is roughly equivalent to the Python\n",
      "    built-in :py:class:`range`, but returns an ndarray rather than a ``range``\n",
      "    instance.\n",
      "    \n",
      "    When using a non-integer step, such as 0.1, it is often better to use\n",
      "    `numpy.linspace`.\n",
      "    \n",
      "    See the Warning sections below for more information.\n",
      "    \n",
      "    Parameters\n",
      "    ----------\n",
      "    start : integer or real, optional\n",
      "        Start of interval.  The interval includes this value.  The default\n",
      "        start value is 0.\n",
      "    stop : integer or real\n",
      "        End of interval.  The interval does not include this value, except\n",
      "        in some cases where `step` is not an integer and floating point\n",
      "        round-off affects the length of `out`.\n",
      "    step : integer or real, optional\n",
      "        Spacing between values.  For any output `out`, this is the distance\n",
      "        between two adjacent values, ``out[i+1] - out[i]``.  The default\n",
      "        step size is 1.  If `step` is specified as a position argument,\n",
      "        `start` must also be given.\n",
      "    dtype : dtype, optional\n",
      "        The type of the output array.  If `dtype` is not given, infer the data\n",
      "        type from the other input arguments.\n",
      "    like : array_like, optional\n",
      "        Reference object to allow the creation of arrays which are not\n",
      "        NumPy arrays. If an array-like passed in as ``like`` supports\n",
      "        the ``__array_function__`` protocol, the result will be defined\n",
      "        by it. In this case, it ensures the creation of an array object\n",
      "        compatible with that passed in via this argument.\n",
      "    \n",
      "        .. versionadded:: 1.20.0\n",
      "    \n",
      "    Returns\n",
      "    -------\n",
      "    arange : ndarray\n",
      "        Array of evenly spaced values.\n",
      "    \n",
      "        For floating point arguments, the length of the result is\n",
      "        ``ceil((stop - start)/step)``.  Because of floating point overflow,\n",
      "        this rule may result in the last element of `out` being greater\n",
      "        than `stop`.\n",
      "    \n",
      "    Warnings\n",
      "    --------\n",
      "    The length of the output might not be numerically stable.\n",
      "    \n",
      "    Another stability issue is due to the internal implementation of\n",
      "    `numpy.arange`.\n",
      "    The actual step value used to populate the array is\n",
      "    ``dtype(start + step) - dtype(start)`` and not `step`. Precision loss\n",
      "    can occur here, due to casting or due to using floating points when\n",
      "    `start` is much larger than `step`. This can lead to unexpected\n",
      "    behaviour. For example::\n",
      "    \n",
      "      >>> np.arange(0, 5, 0.5, dtype=int)\n",
      "      array([0, 0, 0, 0, 0, 0, 0, 0, 0, 0])\n",
      "      >>> np.arange(-3, 3, 0.5, dtype=int)\n",
      "      array([-3, -2, -1,  0,  1,  2,  3,  4,  5,  6,  7,  8])\n",
      "    \n",
      "    In such cases, the use of `numpy.linspace` should be preferred.\n",
      "    \n",
      "    The built-in :py:class:`range` generates :std:doc:`Python built-in integers\n",
      "    that have arbitrary size <python:c-api/long>`, while `numpy.arange`\n",
      "    produces `numpy.int32` or `numpy.int64` numbers. This may result in\n",
      "    incorrect results for large integer values::\n",
      "    \n",
      "      >>> power = 40\n",
      "      >>> modulo = 10000\n",
      "      >>> x1 = [(n ** power) % modulo for n in range(8)]\n",
      "      >>> x2 = [(n ** power) % modulo for n in np.arange(8)]\n",
      "      >>> print(x1)\n",
      "      [0, 1, 7776, 8801, 6176, 625, 6576, 4001]  # correct\n",
      "      >>> print(x2)\n",
      "      [0, 1, 7776, 7185, 0, 5969, 4816, 3361]  # incorrect\n",
      "    \n",
      "    See Also\n",
      "    --------\n",
      "    numpy.linspace : Evenly spaced numbers with careful handling of endpoints.\n",
      "    numpy.ogrid: Arrays of evenly spaced numbers in N-dimensions.\n",
      "    numpy.mgrid: Grid-shaped arrays of evenly spaced numbers in N-dimensions.\n",
      "    :ref:`how-to-partition`\n",
      "    \n",
      "    Examples\n",
      "    --------\n",
      "    >>> np.arange(3)\n",
      "    array([0, 1, 2])\n",
      "    >>> np.arange(3.0)\n",
      "    array([ 0.,  1.,  2.])\n",
      "    >>> np.arange(3,7)\n",
      "    array([3, 4, 5, 6])\n",
      "    >>> np.arange(3,7,2)\n",
      "    array([3, 5])\n",
      "\n"
     ]
    }
   ],
   "source": [
    "help(numpy.arange)"
   ]
  },
  {
   "cell_type": "code",
   "execution_count": 229,
   "id": "a2354a3b",
   "metadata": {},
   "outputs": [
    {
     "name": "stdout",
     "output_type": "stream",
     "text": [
      "Help on function linspace in module numpy:\n",
      "\n",
      "linspace(start, stop, num=50, endpoint=True, retstep=False, dtype=None, axis=0)\n",
      "    Return evenly spaced numbers over a specified interval.\n",
      "    \n",
      "    Returns `num` evenly spaced samples, calculated over the\n",
      "    interval [`start`, `stop`].\n",
      "    \n",
      "    The endpoint of the interval can optionally be excluded.\n",
      "    \n",
      "    .. versionchanged:: 1.16.0\n",
      "        Non-scalar `start` and `stop` are now supported.\n",
      "    \n",
      "    .. versionchanged:: 1.20.0\n",
      "        Values are rounded towards ``-inf`` instead of ``0`` when an\n",
      "        integer ``dtype`` is specified. The old behavior can\n",
      "        still be obtained with ``np.linspace(start, stop, num).astype(int)``\n",
      "    \n",
      "    Parameters\n",
      "    ----------\n",
      "    start : array_like\n",
      "        The starting value of the sequence.\n",
      "    stop : array_like\n",
      "        The end value of the sequence, unless `endpoint` is set to False.\n",
      "        In that case, the sequence consists of all but the last of ``num + 1``\n",
      "        evenly spaced samples, so that `stop` is excluded.  Note that the step\n",
      "        size changes when `endpoint` is False.\n",
      "    num : int, optional\n",
      "        Number of samples to generate. Default is 50. Must be non-negative.\n",
      "    endpoint : bool, optional\n",
      "        If True, `stop` is the last sample. Otherwise, it is not included.\n",
      "        Default is True.\n",
      "    retstep : bool, optional\n",
      "        If True, return (`samples`, `step`), where `step` is the spacing\n",
      "        between samples.\n",
      "    dtype : dtype, optional\n",
      "        The type of the output array.  If `dtype` is not given, the data type\n",
      "        is inferred from `start` and `stop`. The inferred dtype will never be\n",
      "        an integer; `float` is chosen even if the arguments would produce an\n",
      "        array of integers.\n",
      "    \n",
      "        .. versionadded:: 1.9.0\n",
      "    \n",
      "    axis : int, optional\n",
      "        The axis in the result to store the samples.  Relevant only if start\n",
      "        or stop are array-like.  By default (0), the samples will be along a\n",
      "        new axis inserted at the beginning. Use -1 to get an axis at the end.\n",
      "    \n",
      "        .. versionadded:: 1.16.0\n",
      "    \n",
      "    Returns\n",
      "    -------\n",
      "    samples : ndarray\n",
      "        There are `num` equally spaced samples in the closed interval\n",
      "        ``[start, stop]`` or the half-open interval ``[start, stop)``\n",
      "        (depending on whether `endpoint` is True or False).\n",
      "    step : float, optional\n",
      "        Only returned if `retstep` is True\n",
      "    \n",
      "        Size of spacing between samples.\n",
      "    \n",
      "    \n",
      "    See Also\n",
      "    --------\n",
      "    arange : Similar to `linspace`, but uses a step size (instead of the\n",
      "             number of samples).\n",
      "    geomspace : Similar to `linspace`, but with numbers spaced evenly on a log\n",
      "                scale (a geometric progression).\n",
      "    logspace : Similar to `geomspace`, but with the end points specified as\n",
      "               logarithms.\n",
      "    :ref:`how-to-partition`\n",
      "    \n",
      "    Examples\n",
      "    --------\n",
      "    >>> np.linspace(2.0, 3.0, num=5)\n",
      "    array([2.  , 2.25, 2.5 , 2.75, 3.  ])\n",
      "    >>> np.linspace(2.0, 3.0, num=5, endpoint=False)\n",
      "    array([2. ,  2.2,  2.4,  2.6,  2.8])\n",
      "    >>> np.linspace(2.0, 3.0, num=5, retstep=True)\n",
      "    (array([2.  ,  2.25,  2.5 ,  2.75,  3.  ]), 0.25)\n",
      "    \n",
      "    Graphical illustration:\n",
      "    \n",
      "    >>> import matplotlib.pyplot as plt\n",
      "    >>> N = 8\n",
      "    >>> y = np.zeros(N)\n",
      "    >>> x1 = np.linspace(0, 10, N, endpoint=True)\n",
      "    >>> x2 = np.linspace(0, 10, N, endpoint=False)\n",
      "    >>> plt.plot(x1, y, 'o')\n",
      "    [<matplotlib.lines.Line2D object at 0x...>]\n",
      "    >>> plt.plot(x2, y + 0.5, 'o')\n",
      "    [<matplotlib.lines.Line2D object at 0x...>]\n",
      "    >>> plt.ylim([-0.5, 1])\n",
      "    (-0.5, 1)\n",
      "    >>> plt.show()\n",
      "\n"
     ]
    }
   ],
   "source": [
    "help(numpy.linspace)"
   ]
  },
  {
   "cell_type": "markdown",
   "id": "68624993",
   "metadata": {},
   "source": [
    "# DEFINING DEFAULTS"
   ]
  },
  {
   "cell_type": "code",
   "execution_count": 230,
   "id": "e3bc80f0",
   "metadata": {},
   "outputs": [],
   "source": [
    "def rescale(input_array, low_val=0.0, high_val=1.0):\n",
    "    \"\"\"rescales input array values to lie between low_val and high_val\"\"\"\n",
    "    L = numpy.amin(input_array)\n",
    "    H = numpy.amax(input_array)\n",
    "    intermed_array = (input_array - L) / (H - L)\n",
    "    output_array = intermed_array * (high_val - low_val) + low_val\n",
    "    return output_array"
   ]
  },
  {
   "cell_type": "markdown",
   "id": "9c4b7f51",
   "metadata": {},
   "source": [
    "# VARIABLES INSIDE AND OUTSIDE FUNCTIONS"
   ]
  },
  {
   "cell_type": "code",
   "execution_count": 231,
   "id": "a0b21a1e",
   "metadata": {},
   "outputs": [
    {
     "name": "stdout",
     "output_type": "stream",
     "text": [
      "259.81666666666666\n",
      "278.15\n",
      "273.15\n",
      "0\n"
     ]
    }
   ],
   "source": [
    "f = 0\n",
    "k = 0\n",
    "\n",
    "def f2k(f):\n",
    "    k = ((f - 32) * (5.0 / 9.0)) + 273.15\n",
    "    return k\n",
    "\n",
    "print(f2k(8))\n",
    "print(f2k(41))\n",
    "print(f2k(32))\n",
    "\n",
    "print(k)"
   ]
  },
  {
   "cell_type": "markdown",
   "id": "4890f874",
   "metadata": {},
   "source": [
    "# MIXING DEFAULT AND NON-DEFAULT PARAMETERS"
   ]
  },
  {
   "cell_type": "code",
   "execution_count": 234,
   "id": "a0c21d8d",
   "metadata": {},
   "outputs": [
    {
     "name": "stdout",
     "output_type": "stream",
     "text": [
      "a:  -1 b:  2 c: 6\n"
     ]
    }
   ],
   "source": [
    "def func(a, b=3, c=6):\n",
    "    print('a: ', a, 'b: ', b, 'c:', c)\n",
    "\n",
    "func(-1, 2)"
   ]
  },
  {
   "cell_type": "markdown",
   "id": "fd1e3887",
   "metadata": {},
   "source": [
    "# ERRORS AND EXCEPTIONS"
   ]
  },
  {
   "cell_type": "code",
   "execution_count": 236,
   "id": "cadaaba7",
   "metadata": {},
   "outputs": [
    {
     "name": "stdout",
     "output_type": "stream",
     "text": [
      "strawberry\n"
     ]
    }
   ],
   "source": [
    "def favorite_ice_cream():\n",
    "    ice_creams = [\n",
    "        'chocolate',\n",
    "        'vanilla',\n",
    "        'strawberry'\n",
    "    ]\n",
    "    print(ice_creams[2])\n",
    "\n",
    "favorite_ice_cream()"
   ]
  },
  {
   "cell_type": "markdown",
   "id": "3c5f66ba",
   "metadata": {},
   "source": [
    "# READING ERROR MESSAGES"
   ]
  },
  {
   "cell_type": "code",
   "execution_count": 237,
   "id": "7abef117",
   "metadata": {},
   "outputs": [
    {
     "name": "stdout",
     "output_type": "stream",
     "text": [
      "Aw, the weekend is almost over.\n"
     ]
    }
   ],
   "source": [
    "def print_message(day):\n",
    "    messages = [\n",
    "        'Hello, world!',\n",
    "        'Today is Tuesday!',\n",
    "        'It is the middle of the week.',\n",
    "        'Today is Donnerstag in German!',\n",
    "        'Last day of the week!',\n",
    "        'Hooray for the weekend!',\n",
    "        'Aw, the weekend is almost over.'\n",
    "    ]\n",
    "    print(messages[day])\n",
    "\n",
    "def print_sunday_message():\n",
    "    print_message(6)\n",
    "\n",
    "print_sunday_message()"
   ]
  },
  {
   "cell_type": "markdown",
   "id": "343a9320",
   "metadata": {},
   "source": [
    "# SYNTAX ERRORS"
   ]
  },
  {
   "cell_type": "code",
   "execution_count": 239,
   "id": "5e0c9810",
   "metadata": {},
   "outputs": [],
   "source": [
    "def some_function():\n",
    "    msg = 'hello, world!'\n",
    "    print(msg)\n",
    "    return msg"
   ]
  },
  {
   "cell_type": "markdown",
   "id": "144d249a",
   "metadata": {},
   "source": [
    "# IDENTIFYING SYNTAX ERRORS"
   ]
  },
  {
   "cell_type": "code",
   "execution_count": 246,
   "id": "5557be87",
   "metadata": {},
   "outputs": [],
   "source": [
    "def another_function():\n",
    "    print('Syntax errors are annoying.')\n",
    "    print('But at least Python tells us about them!')\n",
    "    print('So they are usually not too hard to fix.')"
   ]
  },
  {
   "cell_type": "markdown",
   "id": "4898a28b",
   "metadata": {},
   "source": [
    "# VARIABLE NAME ERRORS"
   ]
  },
  {
   "cell_type": "code",
   "execution_count": 242,
   "id": "2cc13f7a",
   "metadata": {},
   "outputs": [
    {
     "name": "stdout",
     "output_type": "stream",
     "text": [
      "The count is: 51\n"
     ]
    }
   ],
   "source": [
    "for number in range(10):\n",
    "    count = count + number\n",
    "print('The count is:', count)"
   ]
  },
  {
   "cell_type": "code",
   "execution_count": 243,
   "id": "57e5eb8d",
   "metadata": {},
   "outputs": [
    {
     "name": "stdout",
     "output_type": "stream",
     "text": [
      "The count is: 96\n"
     ]
    }
   ],
   "source": [
    "Count = 0\n",
    "for number in range(10):\n",
    "    count = count + number\n",
    "print('The count is:', count)"
   ]
  },
  {
   "cell_type": "markdown",
   "id": "92874e23",
   "metadata": {},
   "source": [
    "# IDENTIFYING VARIABLE NAME ERRORS"
   ]
  },
  {
   "cell_type": "code",
   "execution_count": 248,
   "id": "e5b31059",
   "metadata": {},
   "outputs": [
    {
     "name": "stdout",
     "output_type": "stream",
     "text": [
      "abbabbabba\n"
     ]
    }
   ],
   "source": [
    "message = ''\n",
    "for number in range(10):\n",
    "    # use a if the number is a multiple of 3, otherwise use b\n",
    "    if (number % 3) == 0:\n",
    "        message = message + 'a'\n",
    "    else:\n",
    "        message = message + 'b'\n",
    "print(message)"
   ]
  },
  {
   "cell_type": "markdown",
   "id": "1d266b69",
   "metadata": {},
   "source": [
    "# INDEX ERRORS"
   ]
  },
  {
   "cell_type": "markdown",
   "id": "93284bf4",
   "metadata": {},
   "source": [
    "# IDENTIFYING INDEX ERRORS"
   ]
  },
  {
   "cell_type": "code",
   "execution_count": 250,
   "id": "35655c70",
   "metadata": {},
   "outputs": [
    {
     "name": "stdout",
     "output_type": "stream",
     "text": [
      "My favorite season is  Winter\n"
     ]
    }
   ],
   "source": [
    "seasons = ['Spring', 'Summer', 'Fall', 'Winter']\n",
    "print('My favorite season is ', seasons[-1])"
   ]
  },
  {
   "cell_type": "markdown",
   "id": "9bd4344f",
   "metadata": {},
   "source": [
    "# DEFENSIVE PROGRAMMING"
   ]
  },
  {
   "cell_type": "code",
   "execution_count": 263,
   "id": "04eba58b",
   "metadata": {},
   "outputs": [
    {
     "name": "stdout",
     "output_type": "stream",
     "text": [
      "total is: 8.9\n"
     ]
    }
   ],
   "source": [
    "numbers = [1.5, 2.3, 0.7,4.4]\n",
    "total = 0.0\n",
    "for num in numbers:\n",
    "    assert num > 0.0, 'Data should only contain positive values'\n",
    "    total += num\n",
    "print('total is:', total)"
   ]
  },
  {
   "cell_type": "markdown",
   "id": "aa12fb18",
   "metadata": {},
   "source": [
    "# ASSERTIONS"
   ]
  },
  {
   "cell_type": "code",
   "execution_count": 251,
   "id": "2a345459",
   "metadata": {},
   "outputs": [],
   "source": [
    "def normalize_rectangle(rect):\n",
    "    \"\"\"Normalizes a rectangle so that it is at the origin and 1.0 units long on its longest axis.\n",
    "    Input should be of the format (x0, y0, x1, y1).\n",
    "    (x0, y0) and (x1, y1) define the lower left and upper right corners\n",
    "    of the rectangle, respectively.\"\"\"\n",
    "    assert len(rect) == 4, 'Rectangles must contain 4 coordinates'\n",
    "    x0, y0, x1, y1 = rect\n",
    "    assert x0 < x1, 'Invalid X coordinates'\n",
    "    assert y0 < y1, 'Invalid Y coordinates'\n",
    "\n",
    "    dx = x1 - x0\n",
    "    dy = y1 - y0\n",
    "    if dx > dy:\n",
    "        scaled = dx / dy\n",
    "        upper_x, upper_y = 1.0, scaled\n",
    "    else:\n",
    "        scaled = dx / dy\n",
    "        upper_x, upper_y = scaled, 1.0\n",
    "\n",
    "    assert 0 < upper_x <= 1.0, 'Calculated upper X coordinate invalid'\n",
    "    assert 0 < upper_y <= 1.0, 'Calculated upper Y coordinate invalid'\n",
    "\n",
    "    return (0, 0, upper_x, upper_y)"
   ]
  },
  {
   "cell_type": "code",
   "execution_count": 253,
   "id": "ed8e563d",
   "metadata": {},
   "outputs": [
    {
     "name": "stdout",
     "output_type": "stream",
     "text": [
      "(0, 0, 0.2, 1.0)\n"
     ]
    }
   ],
   "source": [
    "print(normalize_rectangle( (0.0, 0.0, 1.0, 5.0) ))"
   ]
  },
  {
   "cell_type": "code",
   "execution_count": 264,
   "id": "42d160ba",
   "metadata": {},
   "outputs": [
    {
     "name": "stdout",
     "output_type": "stream",
     "text": [
      "(0, 0, 1.0, 1.0)\n"
     ]
    }
   ],
   "source": [
    "print(normalize_rectangle( (2.0, 3.0, 5.0, 6.0) )) # X axis inverted"
   ]
  },
  {
   "cell_type": "code",
   "execution_count": 265,
   "id": "95da7bfb",
   "metadata": {},
   "outputs": [
    {
     "name": "stdout",
     "output_type": "stream",
     "text": [
      "(0, 0, 0.2, 1.0)\n"
     ]
    }
   ],
   "source": [
    "print(normalize_rectangle( (0.0, 0.0, 1.0, 5.0) ))"
   ]
  },
  {
   "cell_type": "markdown",
   "id": "2231e824",
   "metadata": {},
   "source": [
    "# TEST-DRIVEN DEVELOPMENT"
   ]
  },
  {
   "cell_type": "code",
   "execution_count": 254,
   "id": "576b05eb",
   "metadata": {},
   "outputs": [],
   "source": [
    "def range_overlap(ranges):\n",
    "    pass"
   ]
  },
  {
   "cell_type": "code",
   "execution_count": 257,
   "id": "1060db8f",
   "metadata": {},
   "outputs": [],
   "source": [
    "assert range_overlap([ (0.0, 1.0), (5.0, 6.0) ]) == None\n",
    "assert range_overlap([ (0.0, 1.0), (1.0, 2.0) ]) == None"
   ]
  },
  {
   "cell_type": "code",
   "execution_count": 258,
   "id": "401c510c",
   "metadata": {},
   "outputs": [],
   "source": [
    "def range_overlap(ranges):\n",
    "    \"\"\"Return common overlap among a set of [left, right] ranges.\"\"\"\n",
    "    max_left = 0.0\n",
    "    min_right = 1.0\n",
    "    for (left, right) in ranges:\n",
    "        max_left = max(max_left, left)\n",
    "        min_right = min(min_right, right)\n",
    "    return (max_left, min_right)"
   ]
  },
  {
   "cell_type": "code",
   "execution_count": 259,
   "id": "75989182",
   "metadata": {},
   "outputs": [],
   "source": [
    "def test_range_overlap():\n",
    "    assert range_overlap([ (0.0, 1.0), (5.0, 6.0) ]) == None\n",
    "    assert range_overlap([ (0.0, 1.0), (1.0, 2.0) ]) == None\n",
    "    assert range_overlap([ (0.0, 1.0) ]) == (0.0, 1.0)\n",
    "    assert range_overlap([ (2.0, 3.0), (2.0, 4.0) ]) == (2.0, 3.0)\n",
    "    assert range_overlap([ (0.0, 1.0), (0.0, 2.0), (-1.0, 1.0) ]) == (0.0, 1.0)\n",
    "    assert range_overlap([]) == None"
   ]
  },
  {
   "cell_type": "markdown",
   "id": "0ada4b89",
   "metadata": {},
   "source": [
    "# PRE- AND POST-CONDITIONS"
   ]
  },
  {
   "cell_type": "code",
   "execution_count": 267,
   "id": "f0c1a375",
   "metadata": {},
   "outputs": [],
   "source": [
    "import numpy as np\n",
    "\n",
    "def average(arr):\n",
    "    \"\"\"\n",
    "    Calculate the average of the numbers in a NumPy array.\n",
    "\n",
    "    Pre-conditions:\n",
    "    - arr: NumPy array containing numerical values.\n",
    "    - The input array 'arr' must not be empty.\n",
    "\n",
    "    Post-conditions:\n",
    "    - Returns a single numerical value representing the average of the numbers in 'arr'.\n",
    "    - The output is of the same data type as the input numbers.\n",
    "    \"\"\"\n",
    "    if len(arr) == 0:\n",
    "        raise ValueError(\"Input array must not be empty\")\n",
    "\n",
    "    return np.mean(arr)\n",
    "\n",
    "# Define a test array\n",
    "input_array = np.array([1, 2, 3, 4, 5])\n",
    "\n",
    "# Test pre-condition\n",
    "assert len(input_array) > 0, 'Array length must be non-zero'\n",
    "\n",
    "# Call the function and test post-condition\n",
    "average_result = average(input_array)\n",
    "assert np.amin(input_array) <= average_result <= np.amax(input_array), \"Average result is not within the range of input numbers\""
   ]
  },
  {
   "cell_type": "code",
   "execution_count": 268,
   "id": "ec9164b0",
   "metadata": {},
   "outputs": [],
   "source": [
    "def get_total_cars(values):\n",
    "    assert len(values) > 0\n",
    "    for element in values:\n",
    "        assert int(element)\n",
    "    values = [int(element) for element in values]\n",
    "    total = sum(values)\n",
    "    assert total > 0\n",
    "    return total"
   ]
  },
  {
   "cell_type": "markdown",
   "id": "81b26c33",
   "metadata": {},
   "source": [
    "# DEBUGGING"
   ]
  },
  {
   "cell_type": "code",
   "execution_count": 269,
   "id": "e797cd93",
   "metadata": {},
   "outputs": [
    {
     "name": "stdout",
     "output_type": "stream",
     "text": [
      "Patient's BMI is: 0.00036734693877551024\n",
      "Patient's BMI is: 0.00036734693877551024\n",
      "Patient's BMI is: 0.00036734693877551024\n"
     ]
    }
   ],
   "source": [
    "patients = [[70, 1.8], [80, 1.9], [150, 1.7]]\n",
    "\n",
    "def calculate_bmi(weight, height):\n",
    "    return weight / (height ** 2)\n",
    "\n",
    "for patient in patients:\n",
    "    weight, height = patients[0]\n",
    "    bmi = calculate_bmi(height, weight)\n",
    "    print(\"Patient's BMI is:\", bmi)"
   ]
  },
  {
   "cell_type": "markdown",
   "id": "7dfda83a",
   "metadata": {},
   "source": [
    "# COMMAND-LINE PROGRAMS"
   ]
  },
  {
   "cell_type": "markdown",
   "id": "38c6a2dc",
   "metadata": {},
   "source": [
    "# COMMAND-LINE ARGUMENTS"
   ]
  },
  {
   "cell_type": "code",
   "execution_count": 271,
   "id": "e225665d",
   "metadata": {},
   "outputs": [
    {
     "name": "stdout",
     "output_type": "stream",
     "text": [
      "version is 3.11.5 (main, Sep 11 2023, 08:19:27) [Clang 14.0.6 ]\n"
     ]
    }
   ],
   "source": [
    "import sys\n",
    "print('version is', sys.version)"
   ]
  },
  {
   "cell_type": "code",
   "execution_count": 273,
   "id": "62e67754",
   "metadata": {},
   "outputs": [
    {
     "name": "stdout",
     "output_type": "stream",
     "text": [
      "sys.argv is ['/Users/ananyasmaranikadivendi/anaconda3/lib/python3.11/site-packages/ipykernel_launcher.py', '-f', '/Users/ananyasmaranikadivendi/Library/Jupyter/runtime/kernel-678f0586-d97b-49f5-8263-9bce0eb4c433.json']\n"
     ]
    }
   ],
   "source": [
    "import sys\n",
    "print('sys.argv is', sys.argv)"
   ]
  },
  {
   "cell_type": "markdown",
   "id": "39f5d861",
   "metadata": {},
   "source": [
    "# HANDLING STANDARD INPUT"
   ]
  },
  {
   "cell_type": "code",
   "execution_count": 280,
   "id": "447f3515",
   "metadata": {},
   "outputs": [
    {
     "name": "stdout",
     "output_type": "stream",
     "text": [
      "0 lines in standard input\n"
     ]
    }
   ],
   "source": [
    "import sys\n",
    "\n",
    "count = 0\n",
    "for line in sys.stdin:\n",
    "    count += 1\n",
    "\n",
    "print(count, 'lines in standard input')"
   ]
  },
  {
   "cell_type": "code",
   "execution_count": 282,
   "id": "a0bd5c8f",
   "metadata": {},
   "outputs": [],
   "source": [
    "import sys\n",
    "import glob\n",
    "\n",
    "def main():\n",
    "    \"\"\"prints names of all files with sys.argv as suffix\"\"\"\n",
    "    assert len(sys.argv) >= 2, 'Argument list cannot be empty'\n",
    "    suffix = sys.argv[1] # NB: behaviour is not as you'd expect if sys.argv[1] is *\n",
    "    glob_input = '*.' + suffix # construct the input\n",
    "    glob_output = sorted(glob.glob(glob_input)) # call the glob function\n",
    "    for item in glob_output: # print the output\n",
    "        print(item)\n",
    "    return\n",
    "\n",
    "main()"
   ]
  },
  {
   "cell_type": "code",
   "execution_count": 287,
   "id": "112483cd",
   "metadata": {},
   "outputs": [],
   "source": [
    "import sys\n",
    "import numpy\n",
    "\n",
    "def main():\n",
    "    script = sys.argv[0]\n",
    "    action = sys.argv[1]\n",
    "    filenames = sys.argv[2:]\n",
    "    assert action in ['--min', '--mean', '--max'], \\\n",
    "           'Action is not one of --min, --mean, or --max: ' + action\n",
    "    if len(filenames) == 0:\n",
    "        process(sys.stdin, action)\n",
    "    else:\n",
    "        for filename in filenames:\n",
    "            process(filename, action)\n",
    "\n",
    "def process(filename, action):\n",
    "    data = numpy.loadtxt(filename, delimiter=',')\n",
    "\n",
    "    if action == '--min':\n",
    "        values = numpy.amin(data, axis=1)\n",
    "    elif action == '--mean':\n",
    "        values = numpy.mean(data, axis=1)\n",
    "    elif action == '--max':\n",
    "        values = numpy.amax(data, axis=1)\n",
    "\n",
    "    for val in values:\n",
    "        print(val)"
   ]
  },
  {
   "cell_type": "code",
   "execution_count": 288,
   "id": "69fd6b74",
   "metadata": {},
   "outputs": [],
   "source": [
    "# this is code/readings_07.py\n",
    "import sys\n",
    "import numpy\n",
    "\n",
    "def main():\n",
    "    script = sys.argv[0]\n",
    "    action = sys.argv[1]\n",
    "    filenames = sys.argv[2:]\n",
    "    assert action in ['-n', '-m', '-x'], \\\n",
    "           'Action is not one of -n, -m, or -x: ' + action\n",
    "    if len(filenames) == 0:\n",
    "        process(sys.stdin, action)\n",
    "    else:\n",
    "        for filename in filenames:\n",
    "            process(filename, action)\n",
    "\n",
    "def process(filename, action):\n",
    "    data = numpy.loadtxt(filename, delimiter=',')\n",
    "\n",
    "    if action == '-n':\n",
    "        values = numpy.amin(data, axis=1)\n",
    "    elif action == '-m':\n",
    "        values = numpy.mean(data, axis=1)\n",
    "    elif action == '-x':\n",
    "        values = numpy.amax(data, axis=1)\n",
    "\n",
    "    for val in values:\n",
    "        print(val)"
   ]
  },
  {
   "cell_type": "code",
   "execution_count": 289,
   "id": "f2632011",
   "metadata": {},
   "outputs": [],
   "source": [
    "# this is code/readings_08.py\n",
    "import sys\n",
    "import numpy\n",
    "\n",
    "def main():\n",
    "    script = sys.argv[0]\n",
    "    if len(sys.argv) == 1:  # no arguments, so print help message\n",
    "        print(\"Usage: python readings_08.py action filenames\\n\"\n",
    "              \"Action:\\n\"\n",
    "              \"    Must be one of --min, --mean, or --max.\\n\"\n",
    "              \"Filenames:\\n\"\n",
    "              \"    If blank, input is taken from standard input (stdin).\\n\"\n",
    "              \"    Otherwise, each filename in the list of arguments is processed in turn.\")\n",
    "        return\n",
    "\n",
    "    action = sys.argv[1]\n",
    "    filenames = sys.argv[2:]\n",
    "    assert action in ['--min', '--mean', '--max'], (\n",
    "        'Action is not one of --min, --mean, or --max: ' + action)\n",
    "    if len(filenames) == 0:\n",
    "        process(sys.stdin, action)\n",
    "    else:\n",
    "        for filename in filenames:\n",
    "            process(filename, action)\n",
    "\n",
    "def process(filename, action):\n",
    "    data = numpy.loadtxt(filename, delimiter=',')\n",
    "\n",
    "    if action == '--min':\n",
    "        values = numpy.amin(data, axis=1)\n",
    "    elif action == '--mean':\n",
    "        values = numpy.mean(data, axis=1)\n",
    "    elif action == '--max':\n",
    "        values = numpy.amax(data, axis=1)\n",
    "\n",
    "    for val in values:\n",
    "        print(val)"
   ]
  },
  {
   "cell_type": "code",
   "execution_count": 290,
   "id": "29cd5cbe",
   "metadata": {},
   "outputs": [],
   "source": [
    "# this is code/readings_09.py\n",
    "import sys\n",
    "import numpy\n",
    "\n",
    "def main():\n",
    "    script = sys.argv[0]\n",
    "    action = sys.argv[1]\n",
    "    if action not in ['--min', '--mean', '--max']: # if no action given\n",
    "        action = '--mean'    # set a default action, that being mean\n",
    "        filenames = sys.argv[1:] # start the filenames one place earlier in the argv list\n",
    "    else:\n",
    "        filenames = sys.argv[2:]\n",
    "\n",
    "    if len(filenames) == 0:\n",
    "        process(sys.stdin, action)\n",
    "    else:\n",
    "        for filename in filenames:\n",
    "            process(filename, action)\n",
    "\n",
    "def process(filename, action):\n",
    "    data = numpy.loadtxt(filename, delimiter=',')\n",
    "\n",
    "    if action == '--min':\n",
    "        values = numpy.amin(data, axis=1)\n",
    "    elif action == '--mean':\n",
    "        values = numpy.mean(data, axis=1)\n",
    "    elif action == '--max':\n",
    "        values = numpy.amax(data, axis=1)\n",
    "\n",
    "    for val in values:\n",
    "        print(val)"
   ]
  },
  {
   "cell_type": "code",
   "execution_count": 291,
   "id": "7f123633",
   "metadata": {},
   "outputs": [],
   "source": [
    "import sys\n",
    "import numpy\n",
    "\n",
    "def main():\n",
    "    script = sys.argv[0]\n",
    "    filenames = sys.argv[1:]\n",
    "    if len(filenames) <=1: #nothing to check\n",
    "        print('Only 1 file specified on input')\n",
    "    else:\n",
    "        nrow0, ncol0 = row_col_count(filenames[0])\n",
    "        print('First file %s: %d rows and %d columns' % (filenames[0], nrow0, ncol0))\n",
    "        for filename in filenames[1:]:\n",
    "            nrow, ncol = row_col_count(filename)\n",
    "            if nrow != nrow0 or ncol != ncol0:\n",
    "                print('File %s does not check: %d rows and %d columns' % (filename, nrow, ncol))\n",
    "            else:\n",
    "                print('File %s checks' % filename)\n",
    "        return\n",
    "\n",
    "def row_col_count(filename):\n",
    "    try:\n",
    "        nrow, ncol = numpy.loadtxt(filename, delimiter=',').shape\n",
    "    except ValueError:\n",
    "        # 'ValueError' error is raised when numpy encounters lines that\n",
    "        # have different number of data elements in them than the rest of the lines,\n",
    "        # or when lines have non-numeric elements\n",
    "        nrow, ncol = (0, 0)\n",
    "    return nrow, ncol"
   ]
  },
  {
   "cell_type": "code",
   "execution_count": 292,
   "id": "683f2c09",
   "metadata": {},
   "outputs": [],
   "source": [
    "import sys\n",
    "\n",
    "def main():\n",
    "    \"\"\"print each input filename and the number of lines in it,\n",
    "       and print the sum of the number of lines\"\"\"\n",
    "    filenames = sys.argv[1:]\n",
    "    sum_nlines = 0 #initialize counting variable\n",
    "\n",
    "    if len(filenames) == 0: # no filenames, just stdin\n",
    "        sum_nlines = count_file_like(sys.stdin)\n",
    "        print('stdin: %d' % sum_nlines)\n",
    "    else:\n",
    "        for filename in filenames:\n",
    "            nlines = count_file(filename)\n",
    "            print('%s %d' % (filename, nlines))\n",
    "            sum_nlines += nlines\n",
    "        print('total: %d' % sum_nlines)\n",
    "\n",
    "def count_file(filename):\n",
    "    \"\"\"count the number of lines in a file\"\"\"\n",
    "    f = open(filename, 'r')\n",
    "    nlines = len(f.readlines())\n",
    "    f.close()\n",
    "    return(nlines)\n",
    "\n",
    "def count_file_like(file_like):\n",
    "    \"\"\"count the number of lines in a file-like object (eg stdin)\"\"\"\n",
    "    n = 0\n",
    "    for line in file_like:\n",
    "        n = n+1\n",
    "    return n"
   ]
  }
 ],
 "metadata": {
  "kernelspec": {
   "display_name": "Python 3 (ipykernel)",
   "language": "python",
   "name": "python3"
  },
  "language_info": {
   "codemirror_mode": {
    "name": "ipython",
    "version": 3
   },
   "file_extension": ".py",
   "mimetype": "text/x-python",
   "name": "python",
   "nbconvert_exporter": "python",
   "pygments_lexer": "ipython3",
   "version": "3.11.5"
  }
 },
 "nbformat": 4,
 "nbformat_minor": 5
}
